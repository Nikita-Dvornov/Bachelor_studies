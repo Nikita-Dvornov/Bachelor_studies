version https://git-lfs.github.com/spec/v1
oid sha256:7ba342286687289517f80d7d0444706e230fe49148e92260cae016d23196a3cb
size 229329
