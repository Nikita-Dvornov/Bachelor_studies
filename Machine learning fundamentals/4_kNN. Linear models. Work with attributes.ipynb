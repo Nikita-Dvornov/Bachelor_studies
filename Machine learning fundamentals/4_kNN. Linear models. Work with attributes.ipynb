version https://git-lfs.github.com/spec/v1
oid sha256:184a2afdef5c08ac2db13f30878e19702165eae8a093a6cb43bde2db33eb9608
size 473021
