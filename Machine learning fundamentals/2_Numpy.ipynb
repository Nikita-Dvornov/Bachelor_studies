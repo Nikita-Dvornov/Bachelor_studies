version https://git-lfs.github.com/spec/v1
oid sha256:2267542ed33fd9c1c38e8cf9415f3da45f7ed32f8357b824dbe9b98d30ec4e8f
size 19101
