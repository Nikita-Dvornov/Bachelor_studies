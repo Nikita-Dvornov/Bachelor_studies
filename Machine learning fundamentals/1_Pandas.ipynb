{
 "cells": [
  {
   "cell_type": "markdown",
   "metadata": {
    "_uuid": "21c25e4f8bb31570029fd6b069131a5d00f84cf1"
   },
   "source": [
    "# Homework 1 (5 points).\n",
    "\n",
    "All tasks below have equal weight (5/16)."
   ]
  },
  {
   "cell_type": "code",
   "execution_count": 42,
   "metadata": {
    "_uuid": "568eb2d31004b87d22e119112ae01a1e75105f1d"
   },
   "outputs": [],
   "source": [
    "import pandas as pd\n",
    "from collections import defaultdict"
   ]
  },
  {
   "cell_type": "markdown",
   "metadata": {},
   "source": [
    "#### Data description\n",
    "\n",
    "The Data folder contains information about students. There are 10 groups of students in total. The files are divided into two categories:\n",
    "    * Students_info_i - information about students from group I\n",
    "    * Students_marks_i - grades of students from group I for exams"
   ]
  },
  {
   "cell_type": "markdown",
   "metadata": {},
   "source": [
    "### One of the important advantages of pandas is its convenient methods for relational interaction with data, similar to the capabilities of SQL for merging and concatenating tables: `merge`, `join`, and `concat`. The availability of these built-in methods allows us to avoid implementing element-wise data processing manually and instead work with whole data tables.\n",
    "\n",
    "For detailed information on these methods, check out the following resource: [Kaggle - Renaming and Combining Data](https://www.kaggle.com/residentmario/renaming-and-combining#Combining)"
   ]
  },
  {
   "cell_type": "markdown",
   "metadata": {},
   "source": [
    "#### Task 1. Collect all the information about the students in one df table. The resulting table should contain the information and grades of all students from all groups. Print several rows of the table to demonstrate the result."
   ]
  },
  {
   "cell_type": "code",
   "execution_count": 43,
   "metadata": {},
   "outputs": [],
   "source": [
    "import pandas as pd\n",
    "\n",
    "students_info_0 = pd.read_csv('students_info_0.csv')\n",
    "students_info_1 = pd.read_csv('students_info_1.csv')\n",
    "students_info_2 = pd.read_csv('students_info_2.csv')\n",
    "students_info_3 = pd.read_csv('students_info_3.csv')\n",
    "students_info_4 = pd.read_csv('students_info_4.csv')\n",
    "students_info_5 = pd.read_csv('students_info_5.csv')\n",
    "students_info_6 = pd.read_csv('students_info_6.csv')\n",
    "students_info_7 = pd.read_csv('students_info_7.csv')\n",
    "students_info_8 = pd.read_csv('students_info_8.csv')\n",
    "students_info_9 = pd.read_csv('students_info_9.csv')\n",
    "\n",
    "students_marks_0 = pd.read_csv('students_marks_0.csv')\n",
    "students_marks_1 = pd.read_csv('students_marks_1.csv')\n",
    "students_marks_2 = pd.read_csv('students_marks_2.csv')\n",
    "students_marks_3 = pd.read_csv('students_marks_3.csv')\n",
    "students_marks_4 = pd.read_csv('students_marks_4.csv')\n",
    "students_marks_5 = pd.read_csv('students_marks_5.csv')\n",
    "students_marks_6 = pd.read_csv('students_marks_6.csv')\n",
    "students_marks_7 = pd.read_csv('students_marks_7.csv')\n",
    "students_marks_8 = pd.read_csv('students_marks_8.csv')\n",
    "students_marks_9 = pd.read_csv('students_marks_9.csv')"
   ]
  },
  {
   "cell_type": "code",
   "execution_count": 44,
   "metadata": {},
   "outputs": [],
   "source": [
    "students_info_full = pd.concat([students_info_0, students_info_1, students_info_2, students_info_3, students_info_4,\n",
    "                                students_info_5, students_info_6, students_info_7, students_info_8, students_info_9], axis = 0)"
   ]
  },
  {
   "cell_type": "code",
   "execution_count": 45,
   "metadata": {},
   "outputs": [],
   "source": [
    "students_all_marks = pd.concat([students_marks_0, students_marks_1, students_marks_2, students_marks_3, students_marks_4,\n",
    "                                students_marks_5, students_marks_6, students_marks_7, students_marks_8, students_marks_9], axis = 0)"
   ]
  },
  {
   "cell_type": "code",
   "execution_count": 46,
   "metadata": {},
   "outputs": [
    {
     "data": {
      "text/html": [
       "<div>\n",
       "<style scoped>\n",
       "    .dataframe tbody tr th:only-of-type {\n",
       "        vertical-align: middle;\n",
       "    }\n",
       "\n",
       "    .dataframe tbody tr th {\n",
       "        vertical-align: top;\n",
       "    }\n",
       "\n",
       "    .dataframe thead th {\n",
       "        text-align: right;\n",
       "    }\n",
       "</style>\n",
       "<table border=\"1\" class=\"dataframe\">\n",
       "  <thead>\n",
       "    <tr style=\"text-align: right;\">\n",
       "      <th></th>\n",
       "      <th>index</th>\n",
       "      <th>gender</th>\n",
       "      <th>race/ethnicity</th>\n",
       "      <th>parental level of education</th>\n",
       "      <th>lunch</th>\n",
       "      <th>test preparation course</th>\n",
       "      <th>group</th>\n",
       "      <th>math score</th>\n",
       "      <th>reading score</th>\n",
       "      <th>writing score</th>\n",
       "    </tr>\n",
       "  </thead>\n",
       "  <tbody>\n",
       "    <tr>\n",
       "      <th>0</th>\n",
       "      <td>0</td>\n",
       "      <td>female</td>\n",
       "      <td>group B</td>\n",
       "      <td>bachelor's degree</td>\n",
       "      <td>standard</td>\n",
       "      <td>none</td>\n",
       "      <td>group1</td>\n",
       "      <td>72</td>\n",
       "      <td>72</td>\n",
       "      <td>74</td>\n",
       "    </tr>\n",
       "    <tr>\n",
       "      <th>1</th>\n",
       "      <td>1</td>\n",
       "      <td>female</td>\n",
       "      <td>group C</td>\n",
       "      <td>some college</td>\n",
       "      <td>standard</td>\n",
       "      <td>completed</td>\n",
       "      <td>group1</td>\n",
       "      <td>69</td>\n",
       "      <td>90</td>\n",
       "      <td>88</td>\n",
       "    </tr>\n",
       "    <tr>\n",
       "      <th>2</th>\n",
       "      <td>2</td>\n",
       "      <td>female</td>\n",
       "      <td>group B</td>\n",
       "      <td>master's degree</td>\n",
       "      <td>standard</td>\n",
       "      <td>none</td>\n",
       "      <td>group1</td>\n",
       "      <td>90</td>\n",
       "      <td>95</td>\n",
       "      <td>93</td>\n",
       "    </tr>\n",
       "    <tr>\n",
       "      <th>3</th>\n",
       "      <td>3</td>\n",
       "      <td>male</td>\n",
       "      <td>group A</td>\n",
       "      <td>associate's degree</td>\n",
       "      <td>free/reduced</td>\n",
       "      <td>none</td>\n",
       "      <td>group1</td>\n",
       "      <td>47</td>\n",
       "      <td>57</td>\n",
       "      <td>44</td>\n",
       "    </tr>\n",
       "    <tr>\n",
       "      <th>4</th>\n",
       "      <td>4</td>\n",
       "      <td>male</td>\n",
       "      <td>group C</td>\n",
       "      <td>some college</td>\n",
       "      <td>standard</td>\n",
       "      <td>none</td>\n",
       "      <td>group1</td>\n",
       "      <td>76</td>\n",
       "      <td>78</td>\n",
       "      <td>75</td>\n",
       "    </tr>\n",
       "  </tbody>\n",
       "</table>\n",
       "</div>"
      ],
      "text/plain": [
       "   index  gender race/ethnicity parental level of education         lunch  \\\n",
       "0      0  female        group B           bachelor's degree      standard   \n",
       "1      1  female        group C                some college      standard   \n",
       "2      2  female        group B             master's degree      standard   \n",
       "3      3    male        group A          associate's degree  free/reduced   \n",
       "4      4    male        group C                some college      standard   \n",
       "\n",
       "  test preparation course   group  math score  reading score  writing score  \n",
       "0                    none  group1          72             72             74  \n",
       "1               completed  group1          69             90             88  \n",
       "2                    none  group1          90             95             93  \n",
       "3                    none  group1          47             57             44  \n",
       "4                    none  group1          76             78             75  "
      ]
     },
     "execution_count": 46,
     "metadata": {},
     "output_type": "execute_result"
    }
   ],
   "source": [
    "students = pd.merge(students_info_full, students_all_marks)\n",
    "students.head()"
   ]
  },
  {
   "cell_type": "markdown",
   "metadata": {
    "_uuid": "8524af4cbd2f7b7810e8a3095a74c9fe1df7eafa"
   },
   "source": [
    "#### Task 2. Delete the index column from the resulting table. Print the first 10 rows of the table."
   ]
  },
  {
   "cell_type": "code",
   "execution_count": 47,
   "metadata": {
    "_uuid": "fe62eee87b9b94ab923f57b55eaf0554612aa9e9"
   },
   "outputs": [
    {
     "data": {
      "text/html": [
       "<div>\n",
       "<style scoped>\n",
       "    .dataframe tbody tr th:only-of-type {\n",
       "        vertical-align: middle;\n",
       "    }\n",
       "\n",
       "    .dataframe tbody tr th {\n",
       "        vertical-align: top;\n",
       "    }\n",
       "\n",
       "    .dataframe thead th {\n",
       "        text-align: right;\n",
       "    }\n",
       "</style>\n",
       "<table border=\"1\" class=\"dataframe\">\n",
       "  <thead>\n",
       "    <tr style=\"text-align: right;\">\n",
       "      <th></th>\n",
       "      <th>gender</th>\n",
       "      <th>race/ethnicity</th>\n",
       "      <th>parental level of education</th>\n",
       "      <th>lunch</th>\n",
       "      <th>test preparation course</th>\n",
       "      <th>group</th>\n",
       "      <th>math score</th>\n",
       "      <th>reading score</th>\n",
       "      <th>writing score</th>\n",
       "    </tr>\n",
       "  </thead>\n",
       "  <tbody>\n",
       "    <tr>\n",
       "      <th>0</th>\n",
       "      <td>female</td>\n",
       "      <td>group B</td>\n",
       "      <td>bachelor's degree</td>\n",
       "      <td>standard</td>\n",
       "      <td>none</td>\n",
       "      <td>group1</td>\n",
       "      <td>72</td>\n",
       "      <td>72</td>\n",
       "      <td>74</td>\n",
       "    </tr>\n",
       "    <tr>\n",
       "      <th>1</th>\n",
       "      <td>female</td>\n",
       "      <td>group C</td>\n",
       "      <td>some college</td>\n",
       "      <td>standard</td>\n",
       "      <td>completed</td>\n",
       "      <td>group1</td>\n",
       "      <td>69</td>\n",
       "      <td>90</td>\n",
       "      <td>88</td>\n",
       "    </tr>\n",
       "    <tr>\n",
       "      <th>2</th>\n",
       "      <td>female</td>\n",
       "      <td>group B</td>\n",
       "      <td>master's degree</td>\n",
       "      <td>standard</td>\n",
       "      <td>none</td>\n",
       "      <td>group1</td>\n",
       "      <td>90</td>\n",
       "      <td>95</td>\n",
       "      <td>93</td>\n",
       "    </tr>\n",
       "    <tr>\n",
       "      <th>3</th>\n",
       "      <td>male</td>\n",
       "      <td>group A</td>\n",
       "      <td>associate's degree</td>\n",
       "      <td>free/reduced</td>\n",
       "      <td>none</td>\n",
       "      <td>group1</td>\n",
       "      <td>47</td>\n",
       "      <td>57</td>\n",
       "      <td>44</td>\n",
       "    </tr>\n",
       "    <tr>\n",
       "      <th>4</th>\n",
       "      <td>male</td>\n",
       "      <td>group C</td>\n",
       "      <td>some college</td>\n",
       "      <td>standard</td>\n",
       "      <td>none</td>\n",
       "      <td>group1</td>\n",
       "      <td>76</td>\n",
       "      <td>78</td>\n",
       "      <td>75</td>\n",
       "    </tr>\n",
       "    <tr>\n",
       "      <th>5</th>\n",
       "      <td>female</td>\n",
       "      <td>group B</td>\n",
       "      <td>associate's degree</td>\n",
       "      <td>standard</td>\n",
       "      <td>none</td>\n",
       "      <td>group1</td>\n",
       "      <td>71</td>\n",
       "      <td>83</td>\n",
       "      <td>78</td>\n",
       "    </tr>\n",
       "    <tr>\n",
       "      <th>6</th>\n",
       "      <td>female</td>\n",
       "      <td>group B</td>\n",
       "      <td>some college</td>\n",
       "      <td>standard</td>\n",
       "      <td>completed</td>\n",
       "      <td>group1</td>\n",
       "      <td>88</td>\n",
       "      <td>95</td>\n",
       "      <td>92</td>\n",
       "    </tr>\n",
       "    <tr>\n",
       "      <th>7</th>\n",
       "      <td>male</td>\n",
       "      <td>group B</td>\n",
       "      <td>some college</td>\n",
       "      <td>free/reduced</td>\n",
       "      <td>none</td>\n",
       "      <td>group1</td>\n",
       "      <td>40</td>\n",
       "      <td>43</td>\n",
       "      <td>39</td>\n",
       "    </tr>\n",
       "    <tr>\n",
       "      <th>8</th>\n",
       "      <td>male</td>\n",
       "      <td>group D</td>\n",
       "      <td>high school</td>\n",
       "      <td>free/reduced</td>\n",
       "      <td>completed</td>\n",
       "      <td>group1</td>\n",
       "      <td>64</td>\n",
       "      <td>64</td>\n",
       "      <td>67</td>\n",
       "    </tr>\n",
       "    <tr>\n",
       "      <th>9</th>\n",
       "      <td>female</td>\n",
       "      <td>group B</td>\n",
       "      <td>high school</td>\n",
       "      <td>free/reduced</td>\n",
       "      <td>none</td>\n",
       "      <td>group1</td>\n",
       "      <td>38</td>\n",
       "      <td>60</td>\n",
       "      <td>50</td>\n",
       "    </tr>\n",
       "  </tbody>\n",
       "</table>\n",
       "</div>"
      ],
      "text/plain": [
       "   gender race/ethnicity parental level of education         lunch  \\\n",
       "0  female        group B           bachelor's degree      standard   \n",
       "1  female        group C                some college      standard   \n",
       "2  female        group B             master's degree      standard   \n",
       "3    male        group A          associate's degree  free/reduced   \n",
       "4    male        group C                some college      standard   \n",
       "5  female        group B          associate's degree      standard   \n",
       "6  female        group B                some college      standard   \n",
       "7    male        group B                some college  free/reduced   \n",
       "8    male        group D                 high school  free/reduced   \n",
       "9  female        group B                 high school  free/reduced   \n",
       "\n",
       "  test preparation course   group  math score  reading score  writing score  \n",
       "0                    none  group1          72             72             74  \n",
       "1               completed  group1          69             90             88  \n",
       "2                    none  group1          90             95             93  \n",
       "3                    none  group1          47             57             44  \n",
       "4                    none  group1          76             78             75  \n",
       "5                    none  group1          71             83             78  \n",
       "6               completed  group1          88             95             92  \n",
       "7                    none  group1          40             43             39  \n",
       "8               completed  group1          64             64             67  \n",
       "9                    none  group1          38             60             50  "
      ]
     },
     "execution_count": 47,
     "metadata": {},
     "output_type": "execute_result"
    }
   ],
   "source": [
    "students.drop(columns = ['index'], inplace = True)\n",
    "students.head(10)"
   ]
  },
  {
   "cell_type": "markdown",
   "metadata": {
    "_uuid": "5fcd622942b7ecfc318934c6a245d3bb3bf01e84"
   },
   "source": [
    "#### Task 3. Display the dimensions of the resulting table"
   ]
  },
  {
   "cell_type": "code",
   "execution_count": 48,
   "metadata": {
    "_uuid": "16281cd7b4e941ebed8ca2e1b42f62f55d838684"
   },
   "outputs": [
    {
     "data": {
      "text/plain": [
       "(1000, 9)"
      ]
     },
     "execution_count": 48,
     "metadata": {},
     "output_type": "execute_result"
    }
   ],
   "source": [
    "students.shape"
   ]
  },
  {
   "cell_type": "markdown",
   "metadata": {
    "_uuid": "fe8e3d58d29ca25dbbcf001392377643e6ff9a36"
   },
   "source": [
    "#### Task 4. Display the statistical characteristics of the numerical columns of the table (minimum, maximum, average, standard deviation)"
   ]
  },
  {
   "cell_type": "code",
   "execution_count": 49,
   "metadata": {
    "_uuid": "e3d4bb80d2c4251fe517c24fcf08c5ff2d67b8aa"
   },
   "outputs": [
    {
     "data": {
      "text/html": [
       "<div>\n",
       "<style scoped>\n",
       "    .dataframe tbody tr th:only-of-type {\n",
       "        vertical-align: middle;\n",
       "    }\n",
       "\n",
       "    .dataframe tbody tr th {\n",
       "        vertical-align: top;\n",
       "    }\n",
       "\n",
       "    .dataframe thead th {\n",
       "        text-align: right;\n",
       "    }\n",
       "</style>\n",
       "<table border=\"1\" class=\"dataframe\">\n",
       "  <thead>\n",
       "    <tr style=\"text-align: right;\">\n",
       "      <th></th>\n",
       "      <th>math score</th>\n",
       "      <th>reading score</th>\n",
       "      <th>writing score</th>\n",
       "    </tr>\n",
       "  </thead>\n",
       "  <tbody>\n",
       "    <tr>\n",
       "      <th>count</th>\n",
       "      <td>1000.00000</td>\n",
       "      <td>1000.000000</td>\n",
       "      <td>1000.000000</td>\n",
       "    </tr>\n",
       "    <tr>\n",
       "      <th>mean</th>\n",
       "      <td>66.08900</td>\n",
       "      <td>69.169000</td>\n",
       "      <td>68.054000</td>\n",
       "    </tr>\n",
       "    <tr>\n",
       "      <th>std</th>\n",
       "      <td>15.16308</td>\n",
       "      <td>14.600192</td>\n",
       "      <td>15.195657</td>\n",
       "    </tr>\n",
       "    <tr>\n",
       "      <th>min</th>\n",
       "      <td>0.00000</td>\n",
       "      <td>17.000000</td>\n",
       "      <td>10.000000</td>\n",
       "    </tr>\n",
       "    <tr>\n",
       "      <th>25%</th>\n",
       "      <td>57.00000</td>\n",
       "      <td>59.000000</td>\n",
       "      <td>57.750000</td>\n",
       "    </tr>\n",
       "    <tr>\n",
       "      <th>50%</th>\n",
       "      <td>66.00000</td>\n",
       "      <td>70.000000</td>\n",
       "      <td>69.000000</td>\n",
       "    </tr>\n",
       "    <tr>\n",
       "      <th>75%</th>\n",
       "      <td>77.00000</td>\n",
       "      <td>79.000000</td>\n",
       "      <td>79.000000</td>\n",
       "    </tr>\n",
       "    <tr>\n",
       "      <th>max</th>\n",
       "      <td>100.00000</td>\n",
       "      <td>100.000000</td>\n",
       "      <td>100.000000</td>\n",
       "    </tr>\n",
       "  </tbody>\n",
       "</table>\n",
       "</div>"
      ],
      "text/plain": [
       "       math score  reading score  writing score\n",
       "count  1000.00000    1000.000000    1000.000000\n",
       "mean     66.08900      69.169000      68.054000\n",
       "std      15.16308      14.600192      15.195657\n",
       "min       0.00000      17.000000      10.000000\n",
       "25%      57.00000      59.000000      57.750000\n",
       "50%      66.00000      70.000000      69.000000\n",
       "75%      77.00000      79.000000      79.000000\n",
       "max     100.00000     100.000000     100.000000"
      ]
     },
     "execution_count": 49,
     "metadata": {},
     "output_type": "execute_result"
    }
   ],
   "source": [
    "students.describe()"
   ]
  },
  {
   "cell_type": "markdown",
   "metadata": {
    "_uuid": "b26b7de83485ecb3b8a0a7865a596e24527c7b2f"
   },
   "source": [
    "#### Task 5. Check if there are any missing values in the table."
   ]
  },
  {
   "cell_type": "code",
   "execution_count": 50,
   "metadata": {
    "_uuid": "4eac3f8f83d07c6e58ad1576fe0e773f37034a2f"
   },
   "outputs": [
    {
     "data": {
      "text/plain": [
       "gender                         0\n",
       "race/ethnicity                 0\n",
       "parental level of education    0\n",
       "lunch                          0\n",
       "test preparation course        0\n",
       "group                          0\n",
       "math score                     0\n",
       "reading score                  0\n",
       "writing score                  0\n",
       "dtype: int64"
      ]
     },
     "execution_count": 50,
     "metadata": {},
     "output_type": "execute_result"
    }
   ],
   "source": [
    "students.isnull().sum()"
   ]
  },
  {
   "cell_type": "markdown",
   "metadata": {},
   "source": [
    "### Task 6. Display the average scores of students in each subject (math, reading, writing)"
   ]
  },
  {
   "cell_type": "code",
   "execution_count": 57,
   "metadata": {},
   "outputs": [
    {
     "name": "stdout",
     "output_type": "stream",
     "text": [
      "66.089\n",
      "69.169\n",
      "68.054\n"
     ]
    }
   ],
   "source": [
    "print(students['math score'].mean())\n",
    "print(students['reading score'].mean())\n",
    "print(students['writing score'].mean())"
   ]
  },
  {
   "cell_type": "markdown",
   "metadata": {},
   "source": [
    "**Task 7. How do grades depend on whether a student has completed an exam preparation course? Display on the screen for each subject individually the average score of students who took the exam preparation course and did not take the course.**"
   ]
  },
  {
   "cell_type": "code",
   "execution_count": 58,
   "metadata": {},
   "outputs": [
    {
     "name": "stdout",
     "output_type": "stream",
     "text": [
      "Проходившие курс: 69.69553072625699; Не проходившие курс: 64.0778816199377\n",
      "Проходившие курс: 73.89385474860335; Не проходившие курс: 66.53426791277259\n",
      "Проходившие курс: 74.41899441340782; Не проходившие курс: 64.50467289719626\n"
     ]
    }
   ],
   "source": [
    "print('Проходившие курс: ', students.groupby('test preparation course')['math score'].mean()[0], ';' \n",
    "      ' Не проходившие курс: ', students.groupby('test preparation course')['math score'].mean()[1], sep='')\n",
    "print('Проходившие курс: ', students.groupby('test preparation course')['reading score'].mean()[0], ';' \n",
    "      ' Не проходившие курс: ', students.groupby('test preparation course')['reading score'].mean()[1], sep='')\n",
    "print('Проходившие курс: ', students.groupby('test preparation course')['writing score'].mean()[0], ';'\n",
    "      ' Не проходившие курс: ', students.groupby('test preparation course')['writing score'].mean()[1], sep='')"
   ]
  },
  {
   "cell_type": "markdown",
   "metadata": {},
   "source": [
    "**Task 8. Display all the different values from the lunch column.**"
   ]
  },
  {
   "cell_type": "code",
   "execution_count": 59,
   "metadata": {},
   "outputs": [
    {
     "data": {
      "text/plain": [
       "array(['standard', 'free/reduced'], dtype=object)"
      ]
     },
     "execution_count": 59,
     "metadata": {},
     "output_type": "execute_result"
    }
   ],
   "source": [
    "students['lunch'].unique()"
   ]
  },
  {
   "cell_type": "markdown",
   "metadata": {},
   "source": [
    "**Task 9. Rename the column \"parental level of education\" to \"education\" and \"test preparation course\" to \"test preparation\" using the pandas rename method**\n",
    "https://pandas.pydata.org/pandas-docs/stable/reference/api/pandas.DataFrame.rename.html"
   ]
  },
  {
   "cell_type": "code",
   "execution_count": 60,
   "metadata": {},
   "outputs": [],
   "source": [
    "new_columns = {'parental level of education':'education', 'test preparation course':'test preparation'}\n",
    "students.rename(columns = dict(new_columns), inplace = True)"
   ]
  },
  {
   "cell_type": "markdown",
   "metadata": {},
   "source": [
    "**We will fix the minimum score for passing the exam**"
   ]
  },
  {
   "cell_type": "code",
   "execution_count": 15,
   "metadata": {},
   "outputs": [],
   "source": [
    "passmark = 50"
   ]
  },
  {
   "cell_type": "markdown",
   "metadata": {},
   "source": [
    "**Task 10. Answer the questions:**\n",
    "\n",
    "    - What percentage of students passed the math exam (passmark > 50)?\n",
    "    \n",
    "    - What percentage of students who took the exam preparation course passed the math exam?\n",
    "    \n",
    "    - What proportion of women who did not take the exam preparation course did not pass the math exam?"
   ]
  },
  {
   "cell_type": "code",
   "execution_count": 16,
   "metadata": {},
   "outputs": [
    {
     "name": "stdout",
     "output_type": "stream",
     "text": [
      "0.85\n"
     ]
    }
   ],
   "source": [
    "print(students[students['math score'] > passmark].shape[0] / students.shape[0])"
   ]
  },
  {
   "cell_type": "code",
   "execution_count": 17,
   "metadata": {},
   "outputs": [
    {
     "data": {
      "text/plain": [
       "0.9078212290502793"
      ]
     },
     "execution_count": 17,
     "metadata": {},
     "output_type": "execute_result"
    }
   ],
   "source": [
    "students.loc[(students['test preparation'] == 'completed') & \n",
    "             (students['math score'] > passmark)].shape[0] / students.loc[(students['test preparation'] == 'completed')].shape[0]"
   ]
  },
  {
   "cell_type": "code",
   "execution_count": 18,
   "metadata": {},
   "outputs": [
    {
     "data": {
      "text/plain": [
       "0.23353293413173654"
      ]
     },
     "execution_count": 18,
     "metadata": {},
     "output_type": "execute_result"
    }
   ],
   "source": [
    "students.loc[(students['gender'] == 'female') & (students['test preparation'] == 'none') & \n",
    "             (students['math score'] <= passmark)].shape[0] / students.loc[(students['gender'] == 'female') &\n",
    "                                                                    (students['test preparation'] == 'none')].shape[0]"
   ]
  },
  {
   "cell_type": "markdown",
   "metadata": {},
   "source": [
    "** Task 11. Use group by to complete the tasks below. Also output the completion time of each of the tasks.**\n",
    "* For each ethnic group, output the average score for the reading exam\n",
    "* For each level of education, output the minimum score for the writing exam"
   ]
  },
  {
   "cell_type": "code",
   "execution_count": 55,
   "metadata": {},
   "outputs": [
    {
     "name": "stdout",
     "output_type": "stream",
     "text": [
      "CPU times: user 1.74 ms, sys: 541 µs, total: 2.28 ms\n",
      "Wall time: 1.82 ms\n"
     ]
    },
    {
     "data": {
      "text/plain": [
       "race/ethnicity\n",
       "group A    64.674157\n",
       "group B    67.352632\n",
       "group C    69.103448\n",
       "group D    70.030534\n",
       "group E    73.028571\n",
       "Name: reading score, dtype: float64"
      ]
     },
     "execution_count": 55,
     "metadata": {},
     "output_type": "execute_result"
    }
   ],
   "source": [
    "%%time\n",
    "students.groupby('race/ethnicity')['reading score'].mean()"
   ]
  },
  {
   "cell_type": "code",
   "execution_count": 61,
   "metadata": {},
   "outputs": [
    {
     "name": "stdout",
     "output_type": "stream",
     "text": [
      "CPU times: user 1.85 ms, sys: 382 µs, total: 2.23 ms\n",
      "Wall time: 3.1 ms\n"
     ]
    },
    {
     "data": {
      "text/plain": [
       "education\n",
       "associate's degree    35\n",
       "bachelor's degree     38\n",
       "high school           15\n",
       "master's degree       46\n",
       "some college          19\n",
       "some high school      10\n",
       "Name: writing score, dtype: int64"
      ]
     },
     "execution_count": 61,
     "metadata": {},
     "output_type": "execute_result"
    }
   ],
   "source": [
    "%%time\n",
    "students.groupby('education')['writing score'].min()"
   ]
  },
  {
   "cell_type": "markdown",
   "metadata": {},
   "source": [
    "**Task 12. Complete task 11 using loops. Compare the execution time.**"
   ]
  },
  {
   "cell_type": "code",
   "execution_count": 62,
   "metadata": {},
   "outputs": [
    {
     "name": "stdout",
     "output_type": "stream",
     "text": [
      "dict_items([('group A', 64.67415730337079), ('group B', 67.35263157894737), ('group C', 69.10344827586206), ('group D', 70.03053435114504), ('group E', 73.02857142857142)])\n",
      "CPU times: user 58.2 ms, sys: 2.93 ms, total: 61.1 ms\n",
      "Wall time: 59.2 ms\n"
     ]
    }
   ],
   "source": [
    "%%time\n",
    "summ = defaultdict(lambda: 0)\n",
    "schet = defaultdict(lambda: 0)\n",
    "final = defaultdict(lambda: 0)\n",
    "for i in range(students['reading score'].shape[0]):\n",
    "    summ[students['race/ethnicity'][i]] += students['reading score'][i]\n",
    "    schet[students['race/ethnicity'][i]] += 1\n",
    "for key in sorted(summ.keys()):\n",
    "    final[key] = summ[key] / schet[key]\n",
    "print(final.items())"
   ]
  },
  {
   "cell_type": "code",
   "execution_count": 63,
   "metadata": {},
   "outputs": [],
   "source": [
    "minn_associates_degree = 1000\n",
    "minn_bachelors_degree = 1000\n",
    "minn_high_school = 1000\n",
    "minn_masters_degree = 1000\n",
    "minn_some_college = 1000\n",
    "minn_some_high_school = 1000"
   ]
  },
  {
   "cell_type": "code",
   "execution_count": 64,
   "metadata": {},
   "outputs": [
    {
     "name": "stdout",
     "output_type": "stream",
     "text": [
      "associate's degree: 35 \n",
      " bachelor's degree: 38 \n",
      " high school: 15 \n",
      " master's degree: 46 \n",
      " some college: 19 \n",
      " some high school: 10\n",
      "CPU times: user 125 ms, sys: 3.72 ms, total: 129 ms\n",
      "Wall time: 127 ms\n"
     ]
    }
   ],
   "source": [
    "%%time\n",
    "for index, student in students.iterrows():\n",
    "    if student['education'] == \"associate's degree\":\n",
    "        if student['writing score'] <= minn_associates_degree:\n",
    "            minn_associates_degree = student['writing score']\n",
    "    elif student['education'] == \"bachelor's degree\":\n",
    "        if student['writing score'] <= minn_bachelors_degree:\n",
    "            minn_bachelors_degree = student['writing score']\n",
    "    elif student['education'] == \"high school\":\n",
    "        if student['writing score'] <= minn_high_school:\n",
    "            minn_high_school = student['writing score']\n",
    "    elif student['education'] == \"master's degree\":\n",
    "        if student['writing score'] <= minn_masters_degree:\n",
    "            minn_masters_degree = student['writing score']\n",
    "    elif student['education'] == \"some college\":\n",
    "        if student['writing score'] <= minn_some_college:\n",
    "            minn_some_college = student['writing score']\n",
    "    elif student['education'] == \"some high school\":\n",
    "        if student['writing score'] <= minn_some_high_school:\n",
    "            minn_some_high_school = student['writing score']\n",
    "print(\"associate's degree:\", minn_associates_degree, '\\n', \"bachelor's degree:\", minn_bachelors_degree, '\\n',\n",
    "      \"high school:\", minn_high_school, '\\n', \"master's degree:\", minn_masters_degree, '\\n',\n",
    "      \"some college:\", minn_some_college, '\\n', \"some high school:\", minn_some_high_school)"
   ]
  },
  {
   "cell_type": "markdown",
   "metadata": {},
   "source": [
    "**Task 13. Display the average scores of students for each subject based on gender and education level. In other words, you should create as many groups as 2 * (number of education levels), and for each of these groups, display the average score for each subject.**\n",
    "\n",
    "This can be done using pivot tables (`pivot_table`):\n",
    "\n",
    "For a detailed tutorial, check out the following link: [Kaggle - How to Use Pivot Table in Pandas](https://www.kaggle.com/kamilpolak/tutorial-how-to-use-pivot-table-in-pandas)\n"
   ]
  },
  {
   "cell_type": "code",
   "execution_count": 65,
   "metadata": {},
   "outputs": [],
   "source": [
    "import numpy as np\n",
    "pivoted = pd.pivot_table(students, index = ['gender', 'education']) # np.mean по умолчанию"
   ]
  },
  {
   "cell_type": "markdown",
   "metadata": {
    "_uuid": "3e832cb427c4314582d1953a41b8c78db75e30e3"
   },
   "source": [
    "#### Task 14. How many students passed the math exam?\n",
    "\n",
    "Create a new column in the dataframe `df` named `Math_PassStatus` and fill it with 'F' if the student failed the math exam (exam score < passmark), and 'P' otherwise.\n",
    "\n",
    "Then, count the number of students who passed and failed the math exam.\n",
    "\n",
    "Perform the same steps for the reading and writing exams."
   ]
  },
  {
   "cell_type": "code",
   "execution_count": 142,
   "metadata": {
    "_uuid": "f43cddb72cc96b30df84bc0de83a4d9170904340"
   },
   "outputs": [
    {
     "data": {
      "text/plain": [
       "P    850\n",
       "F    150\n",
       "Name: Math_PassStatus, dtype: int64"
      ]
     },
     "execution_count": 142,
     "metadata": {},
     "output_type": "execute_result"
    }
   ],
   "source": [
    "students['Math_PassStatus'] = ['F' if students['math score'][i] <= passmark else 'P' for i in range(students.shape[0])]\n",
    "students['Math_PassStatus'].value_counts()"
   ]
  },
  {
   "cell_type": "code",
   "execution_count": 143,
   "metadata": {},
   "outputs": [
    {
     "data": {
      "text/plain": [
       "P    903\n",
       "F     97\n",
       "Name: Reading_PassStatus, dtype: int64"
      ]
     },
     "execution_count": 143,
     "metadata": {},
     "output_type": "execute_result"
    }
   ],
   "source": [
    "students['Reading_PassStatus'] = ['F' if students['reading score'][i] <= passmark else 'P' for i in range(students.shape[0])]\n",
    "students['Reading_PassStatus'].value_counts()"
   ]
  },
  {
   "cell_type": "code",
   "execution_count": 144,
   "metadata": {},
   "outputs": [
    {
     "data": {
      "text/plain": [
       "P    876\n",
       "F    124\n",
       "Name: Writing_PassStatus, dtype: int64"
      ]
     },
     "execution_count": 144,
     "metadata": {},
     "output_type": "execute_result"
    }
   ],
   "source": [
    "students['Writing_PassStatus'] = ['F' if students['writing score'][i] <= passmark else 'P' for i in range(students.shape[0])]\n",
    "students['Writing_PassStatus'].value_counts()"
   ]
  },
  {
   "cell_type": "markdown",
   "metadata": {
    "_uuid": "b753c90914ee65501e2ed263ea614d88a381c472"
   },
   "source": [
    "#### Task 15. How many students have successfully passed all the exams?\n",
    "\n",
    "Create an OverAll_PassStatus column and write 'F' in it for each student if the student has failed at least one of the three exams, otherwise 'P'.\n",
    "\n",
    "Count the number of students who have passed all exams."
   ]
  },
  {
   "cell_type": "code",
   "execution_count": 157,
   "metadata": {
    "_uuid": "e98f895a022b967cab801447b616222439fe9d84"
   },
   "outputs": [
    {
     "data": {
      "text/plain": [
       "796"
      ]
     },
     "execution_count": 157,
     "metadata": {},
     "output_type": "execute_result"
    }
   ],
   "source": [
    "students['OverAll_PassStatus'] = ['P' if students['Math_PassStatus'][i] == 'P' and students['Reading_PassStatus'][i] == 'P' and students['Writing_PassStatus'][i] == 'P' else 'F' for i in range(students.shape[0])]\n",
    "students[students['OverAll_PassStatus'] == 'P'].shape[0]"
   ]
  },
  {
   "cell_type": "markdown",
   "metadata": {
    "_uuid": "3af9c6cb4cbfff66d4ae09509f10b8b6ce33075d"
   },
   "source": [
    "### Task 16. Convert Scores to Grades\n",
    "\n",
    "#### Grading System\n",
    "#####   More than 90 = A\n",
    "#####   80-90 = B\n",
    "#####    70-80 = C\n",
    "#####    60-70 = D\n",
    "#####    50-60 = E\n",
    "#####   Less than 50 = F (Fail)\n",
    "\n",
    "Create a helper function that assigns a grade to each student based on the average score of the three exams, according to the grading system above.\n",
    "\n",
    "Then, create a column `Grade` and assign the grade to each student.\n",
    "\n",
    "Finally, count the number of students who received each grade.\n"
   ]
  },
  {
   "cell_type": "code",
   "execution_count": 40,
   "metadata": {
    "_uuid": "04707c5be4237020b906d2ac705a0db3d620506f"
   },
   "outputs": [],
   "source": [
    "def GetGrade(average_mark):\n",
    "    if average_mark > 90:\n",
    "        return 'A'\n",
    "    elif average_mark >= 80:\n",
    "        return 'B'\n",
    "    elif average_mark >= 70:\n",
    "        return 'C'\n",
    "    elif average_mark >= 60:\n",
    "        return 'D'\n",
    "    elif average_mark >= 50:\n",
    "        return 'E'\n",
    "    elif average_mark < 50:\n",
    "        return 'F'\n",
    "\n",
    "students['Grade'] = [GetGrade((students['math score'][i] + students['reading score'][i] + students['writing score'][i])/3) for i in range(students.shape[0])]"
   ]
  },
  {
   "cell_type": "code",
   "execution_count": 41,
   "metadata": {},
   "outputs": [
    {
     "data": {
      "text/plain": [
       "C    261\n",
       "D    256\n",
       "E    182\n",
       "B    148\n",
       "F    103\n",
       "A     50\n",
       "Name: Grade, dtype: int64"
      ]
     },
     "execution_count": 41,
     "metadata": {},
     "output_type": "execute_result"
    }
   ],
   "source": [
    "students['Grade'].value_counts()"
   ]
  },
  {
   "cell_type": "code",
   "execution_count": null,
   "metadata": {},
   "outputs": [],
   "source": []
  }
 ],
 "metadata": {
  "kernelspec": {
   "display_name": "Python [conda env:anaconda3]",
   "language": "python",
   "name": "conda-env-anaconda3-py"
  },
  "language_info": {
   "codemirror_mode": {
    "name": "ipython",
    "version": 3
   },
   "file_extension": ".py",
   "mimetype": "text/x-python",
   "name": "python",
   "nbconvert_exporter": "python",
   "pygments_lexer": "ipython3",
   "version": "3.8.3"
  }
 },
 "nbformat": 4,
 "nbformat_minor": 4
}
