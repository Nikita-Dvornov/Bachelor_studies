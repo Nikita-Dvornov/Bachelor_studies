version https://git-lfs.github.com/spec/v1
oid sha256:00c2160708e42a6b4222fd8b87534d10a4027694a2f07e3f48e26c8f8393bff1
size 38935
