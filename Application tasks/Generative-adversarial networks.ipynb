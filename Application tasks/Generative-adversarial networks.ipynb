version https://git-lfs.github.com/spec/v1
oid sha256:dec5600d0b926037981c2abc86657206c666bfea8bf4dc86b3a0f54c5f3e850a
size 459087
