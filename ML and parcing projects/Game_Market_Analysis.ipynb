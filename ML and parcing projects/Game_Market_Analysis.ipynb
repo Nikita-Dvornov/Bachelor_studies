{
 "cells": [
  {
   "cell_type": "code",
   "execution_count": 6,
   "metadata": {},
   "outputs": [],
   "source": [
    "import pandas as pd\n",
    "import seaborn as sns\n",
    "import matplotlib.pyplot as plt\n",
    "import statsmodels.formula.api as smf # для регрессии"
   ]
  },
  {
   "cell_type": "markdown",
   "metadata": {},
   "source": [
    "**The description of the dataset**\n",
    "\n",
    "Rank - Ranking of overall sales (sorted by 'Global_Sales')\n",
    "\n",
    "Name - The game's name\n",
    "\n",
    "Platform - Platform of the game's release\n",
    "\n",
    "Year - Year of the game's release\n",
    "\n",
    "Genre - Genre of the game\n",
    "\n",
    "Publisher - Publisher of the game\n",
    "\n",
    "NA_Sales - Sales in North America (in millions of dollars)\n",
    "\n",
    "EU_Sales - Sales in Europe (in millions of dollars)\n",
    "\n",
    "JP_Sales - Sales in Japan (in millions of dollars)\n",
    "\n",
    "Other_Sales - Sales in the rest of the world (in millions of dollars)\n",
    "\n",
    "Global_Sales - Total worldwide sales."
   ]
  },
  {
   "cell_type": "markdown",
   "metadata": {},
   "source": [
    "**Goal:** to determine which game and where it is more profitable to release and with which company it is more profitable to interact"
   ]
  },
  {
   "cell_type": "code",
   "execution_count": 7,
   "metadata": {},
   "outputs": [
    {
     "data": {
      "text/html": [
       "<div>\n",
       "<style scoped>\n",
       "    .dataframe tbody tr th:only-of-type {\n",
       "        vertical-align: middle;\n",
       "    }\n",
       "\n",
       "    .dataframe tbody tr th {\n",
       "        vertical-align: top;\n",
       "    }\n",
       "\n",
       "    .dataframe thead th {\n",
       "        text-align: right;\n",
       "    }\n",
       "</style>\n",
       "<table border=\"1\" class=\"dataframe\">\n",
       "  <thead>\n",
       "    <tr style=\"text-align: right;\">\n",
       "      <th></th>\n",
       "      <th>Rank</th>\n",
       "      <th>Name</th>\n",
       "      <th>Platform</th>\n",
       "      <th>Year</th>\n",
       "      <th>Genre</th>\n",
       "      <th>Publisher</th>\n",
       "      <th>NA_Sales</th>\n",
       "      <th>EU_Sales</th>\n",
       "      <th>JP_Sales</th>\n",
       "      <th>Other_Sales</th>\n",
       "      <th>Global_Sales</th>\n",
       "    </tr>\n",
       "  </thead>\n",
       "  <tbody>\n",
       "    <tr>\n",
       "      <th>0</th>\n",
       "      <td>1</td>\n",
       "      <td>Wii Sports</td>\n",
       "      <td>Wii</td>\n",
       "      <td>2006.0</td>\n",
       "      <td>Sports</td>\n",
       "      <td>Nintendo</td>\n",
       "      <td>41.49</td>\n",
       "      <td>29.02</td>\n",
       "      <td>3.77</td>\n",
       "      <td>8.46</td>\n",
       "      <td>82.74</td>\n",
       "    </tr>\n",
       "    <tr>\n",
       "      <th>1</th>\n",
       "      <td>2</td>\n",
       "      <td>Super Mario Bros.</td>\n",
       "      <td>NES</td>\n",
       "      <td>1985.0</td>\n",
       "      <td>Platform</td>\n",
       "      <td>Nintendo</td>\n",
       "      <td>29.08</td>\n",
       "      <td>3.58</td>\n",
       "      <td>6.81</td>\n",
       "      <td>0.77</td>\n",
       "      <td>40.24</td>\n",
       "    </tr>\n",
       "    <tr>\n",
       "      <th>2</th>\n",
       "      <td>3</td>\n",
       "      <td>Mario Kart Wii</td>\n",
       "      <td>Wii</td>\n",
       "      <td>2008.0</td>\n",
       "      <td>Racing</td>\n",
       "      <td>Nintendo</td>\n",
       "      <td>15.85</td>\n",
       "      <td>12.88</td>\n",
       "      <td>3.79</td>\n",
       "      <td>3.31</td>\n",
       "      <td>35.82</td>\n",
       "    </tr>\n",
       "    <tr>\n",
       "      <th>3</th>\n",
       "      <td>4</td>\n",
       "      <td>Wii Sports Resort</td>\n",
       "      <td>Wii</td>\n",
       "      <td>2009.0</td>\n",
       "      <td>Sports</td>\n",
       "      <td>Nintendo</td>\n",
       "      <td>15.75</td>\n",
       "      <td>11.01</td>\n",
       "      <td>3.28</td>\n",
       "      <td>2.96</td>\n",
       "      <td>33.00</td>\n",
       "    </tr>\n",
       "    <tr>\n",
       "      <th>4</th>\n",
       "      <td>5</td>\n",
       "      <td>Pokemon Red/Pokemon Blue</td>\n",
       "      <td>GB</td>\n",
       "      <td>1996.0</td>\n",
       "      <td>Role-Playing</td>\n",
       "      <td>Nintendo</td>\n",
       "      <td>11.27</td>\n",
       "      <td>8.89</td>\n",
       "      <td>10.22</td>\n",
       "      <td>1.00</td>\n",
       "      <td>31.37</td>\n",
       "    </tr>\n",
       "    <tr>\n",
       "      <th>5</th>\n",
       "      <td>6</td>\n",
       "      <td>Tetris</td>\n",
       "      <td>GB</td>\n",
       "      <td>1989.0</td>\n",
       "      <td>Puzzle</td>\n",
       "      <td>Nintendo</td>\n",
       "      <td>23.20</td>\n",
       "      <td>2.26</td>\n",
       "      <td>4.22</td>\n",
       "      <td>0.58</td>\n",
       "      <td>30.26</td>\n",
       "    </tr>\n",
       "    <tr>\n",
       "      <th>6</th>\n",
       "      <td>7</td>\n",
       "      <td>New Super Mario Bros.</td>\n",
       "      <td>DS</td>\n",
       "      <td>2006.0</td>\n",
       "      <td>Platform</td>\n",
       "      <td>Nintendo</td>\n",
       "      <td>11.38</td>\n",
       "      <td>9.23</td>\n",
       "      <td>6.50</td>\n",
       "      <td>2.90</td>\n",
       "      <td>30.01</td>\n",
       "    </tr>\n",
       "  </tbody>\n",
       "</table>\n",
       "</div>"
      ],
      "text/plain": [
       "   Rank                      Name Platform    Year         Genre Publisher  \\\n",
       "0     1                Wii Sports      Wii  2006.0        Sports  Nintendo   \n",
       "1     2         Super Mario Bros.      NES  1985.0      Platform  Nintendo   \n",
       "2     3            Mario Kart Wii      Wii  2008.0        Racing  Nintendo   \n",
       "3     4         Wii Sports Resort      Wii  2009.0        Sports  Nintendo   \n",
       "4     5  Pokemon Red/Pokemon Blue       GB  1996.0  Role-Playing  Nintendo   \n",
       "5     6                    Tetris       GB  1989.0        Puzzle  Nintendo   \n",
       "6     7     New Super Mario Bros.       DS  2006.0      Platform  Nintendo   \n",
       "\n",
       "   NA_Sales  EU_Sales  JP_Sales  Other_Sales  Global_Sales  \n",
       "0     41.49     29.02      3.77         8.46         82.74  \n",
       "1     29.08      3.58      6.81         0.77         40.24  \n",
       "2     15.85     12.88      3.79         3.31         35.82  \n",
       "3     15.75     11.01      3.28         2.96         33.00  \n",
       "4     11.27      8.89     10.22         1.00         31.37  \n",
       "5     23.20      2.26      4.22         0.58         30.26  \n",
       "6     11.38      9.23      6.50         2.90         30.01  "
      ]
     },
     "execution_count": 7,
     "metadata": {},
     "output_type": "execute_result"
    }
   ],
   "source": [
    "games = pd.read_csv('vgsales.csv')\n",
    "games.head(7)"
   ]
  },
  {
   "cell_type": "code",
   "execution_count": 8,
   "metadata": {},
   "outputs": [
    {
     "data": {
      "text/html": [
       "<div>\n",
       "<style scoped>\n",
       "    .dataframe tbody tr th:only-of-type {\n",
       "        vertical-align: middle;\n",
       "    }\n",
       "\n",
       "    .dataframe tbody tr th {\n",
       "        vertical-align: top;\n",
       "    }\n",
       "\n",
       "    .dataframe thead th {\n",
       "        text-align: right;\n",
       "    }\n",
       "</style>\n",
       "<table border=\"1\" class=\"dataframe\">\n",
       "  <thead>\n",
       "    <tr style=\"text-align: right;\">\n",
       "      <th></th>\n",
       "      <th>Rank</th>\n",
       "      <th>Year</th>\n",
       "      <th>NA_Sales</th>\n",
       "      <th>EU_Sales</th>\n",
       "      <th>JP_Sales</th>\n",
       "      <th>Other_Sales</th>\n",
       "      <th>Global_Sales</th>\n",
       "    </tr>\n",
       "  </thead>\n",
       "  <tbody>\n",
       "    <tr>\n",
       "      <th>count</th>\n",
       "      <td>16598.000000</td>\n",
       "      <td>16327.000000</td>\n",
       "      <td>16598.000000</td>\n",
       "      <td>16598.000000</td>\n",
       "      <td>16598.000000</td>\n",
       "      <td>16598.000000</td>\n",
       "      <td>16598.000000</td>\n",
       "    </tr>\n",
       "    <tr>\n",
       "      <th>mean</th>\n",
       "      <td>8300.605254</td>\n",
       "      <td>2006.406443</td>\n",
       "      <td>0.264667</td>\n",
       "      <td>0.146652</td>\n",
       "      <td>0.077782</td>\n",
       "      <td>0.048063</td>\n",
       "      <td>0.537441</td>\n",
       "    </tr>\n",
       "    <tr>\n",
       "      <th>std</th>\n",
       "      <td>4791.853933</td>\n",
       "      <td>5.828981</td>\n",
       "      <td>0.816683</td>\n",
       "      <td>0.505351</td>\n",
       "      <td>0.309291</td>\n",
       "      <td>0.188588</td>\n",
       "      <td>1.555028</td>\n",
       "    </tr>\n",
       "    <tr>\n",
       "      <th>min</th>\n",
       "      <td>1.000000</td>\n",
       "      <td>1980.000000</td>\n",
       "      <td>0.000000</td>\n",
       "      <td>0.000000</td>\n",
       "      <td>0.000000</td>\n",
       "      <td>0.000000</td>\n",
       "      <td>0.010000</td>\n",
       "    </tr>\n",
       "    <tr>\n",
       "      <th>25%</th>\n",
       "      <td>4151.250000</td>\n",
       "      <td>2003.000000</td>\n",
       "      <td>0.000000</td>\n",
       "      <td>0.000000</td>\n",
       "      <td>0.000000</td>\n",
       "      <td>0.000000</td>\n",
       "      <td>0.060000</td>\n",
       "    </tr>\n",
       "    <tr>\n",
       "      <th>50%</th>\n",
       "      <td>8300.500000</td>\n",
       "      <td>2007.000000</td>\n",
       "      <td>0.080000</td>\n",
       "      <td>0.020000</td>\n",
       "      <td>0.000000</td>\n",
       "      <td>0.010000</td>\n",
       "      <td>0.170000</td>\n",
       "    </tr>\n",
       "    <tr>\n",
       "      <th>75%</th>\n",
       "      <td>12449.750000</td>\n",
       "      <td>2010.000000</td>\n",
       "      <td>0.240000</td>\n",
       "      <td>0.110000</td>\n",
       "      <td>0.040000</td>\n",
       "      <td>0.040000</td>\n",
       "      <td>0.470000</td>\n",
       "    </tr>\n",
       "    <tr>\n",
       "      <th>max</th>\n",
       "      <td>16600.000000</td>\n",
       "      <td>2020.000000</td>\n",
       "      <td>41.490000</td>\n",
       "      <td>29.020000</td>\n",
       "      <td>10.220000</td>\n",
       "      <td>10.570000</td>\n",
       "      <td>82.740000</td>\n",
       "    </tr>\n",
       "  </tbody>\n",
       "</table>\n",
       "</div>"
      ],
      "text/plain": [
       "               Rank          Year      NA_Sales      EU_Sales      JP_Sales  \\\n",
       "count  16598.000000  16327.000000  16598.000000  16598.000000  16598.000000   \n",
       "mean    8300.605254   2006.406443      0.264667      0.146652      0.077782   \n",
       "std     4791.853933      5.828981      0.816683      0.505351      0.309291   \n",
       "min        1.000000   1980.000000      0.000000      0.000000      0.000000   \n",
       "25%     4151.250000   2003.000000      0.000000      0.000000      0.000000   \n",
       "50%     8300.500000   2007.000000      0.080000      0.020000      0.000000   \n",
       "75%    12449.750000   2010.000000      0.240000      0.110000      0.040000   \n",
       "max    16600.000000   2020.000000     41.490000     29.020000     10.220000   \n",
       "\n",
       "        Other_Sales  Global_Sales  \n",
       "count  16598.000000  16598.000000  \n",
       "mean       0.048063      0.537441  \n",
       "std        0.188588      1.555028  \n",
       "min        0.000000      0.010000  \n",
       "25%        0.000000      0.060000  \n",
       "50%        0.010000      0.170000  \n",
       "75%        0.040000      0.470000  \n",
       "max       10.570000     82.740000  "
      ]
     },
     "execution_count": 8,
     "metadata": {},
     "output_type": "execute_result"
    }
   ],
   "source": [
    "games.describe()"
   ]
  },
  {
   "cell_type": "markdown",
   "metadata": {},
   "source": [
    "**Clearing data from unnecessary rows**|"
   ]
  },
  {
   "cell_type": "code",
   "execution_count": 9,
   "metadata": {},
   "outputs": [
    {
     "name": "stdout",
     "output_type": "stream",
     "text": [
      "(16598, 11)\n"
     ]
    }
   ],
   "source": [
    "print(games.shape)"
   ]
  },
  {
   "cell_type": "code",
   "execution_count": 10,
   "metadata": {},
   "outputs": [
    {
     "name": "stdout",
     "output_type": "stream",
     "text": [
      "(16291, 11)\n"
     ]
    }
   ],
   "source": [
    "games.dropna(inplace = True)\n",
    "print(games.shape)"
   ]
  },
  {
   "cell_type": "markdown",
   "metadata": {},
   "source": [
    "We see that the number of rows has decreased slightly, so we can throw them out of the dataset."
   ]
  },
  {
   "cell_type": "markdown",
   "metadata": {},
   "source": [
    "**Identifying the general trend**"
   ]
  },
  {
   "cell_type": "markdown",
   "metadata": {},
   "source": [
    "Let's output the number of total sales for each year and see a downward trend in sales for these games, which indicates the need to create something new."
   ]
  },
  {
   "cell_type": "code",
   "execution_count": 11,
   "metadata": {},
   "outputs": [
    {
     "data": {
      "text/plain": [
       "Text(0, 0.5, 'Share')"
      ]
     },
     "execution_count": 11,
     "metadata": {},
     "output_type": "execute_result"
    },
    {
     "data": {
      "image/png": "[encoded data removed]",
      "text/plain": [
       "<Figure size 432x288 with 1 Axes>"
      ]
     },
     "metadata": {
      "needs_background": "light"
     },
     "output_type": "display_data"
    }
   ],
   "source": [
    "games_years = games.groupby('Year')['Global_Sales'].sum().to_frame()\n",
    "plt.plot(games_years['Global_Sales']);\n",
    "plt.title('The number of \"Global_Sales\" in each year', fontsize = 20, fontname = 'Times')\n",
    "plt.xlabel('Year', fontsize = 17, fontname = 'Times')\n",
    "plt.ylabel('Share', fontsize = 17, fontname = 'Times')"
   ]
  },
  {
   "cell_type": "markdown",
   "metadata": {},
   "source": [
    "Выведем сам датасет, чтобы увидеть, какой год был самым успешным (это 2008 год)\n",
    "\n",
    "Let's output the dataset itself to see which year was the most successful (this is 2008)"
   ]
  },
  {
   "cell_type": "code",
   "execution_count": 12,
   "metadata": {},
   "outputs": [
    {
     "data": {
      "text/html": [
       "<div>\n",
       "<style scoped>\n",
       "    .dataframe tbody tr th:only-of-type {\n",
       "        vertical-align: middle;\n",
       "    }\n",
       "\n",
       "    .dataframe tbody tr th {\n",
       "        vertical-align: top;\n",
       "    }\n",
       "\n",
       "    .dataframe thead th {\n",
       "        text-align: right;\n",
       "    }\n",
       "</style>\n",
       "<table border=\"1\" class=\"dataframe\">\n",
       "  <thead>\n",
       "    <tr style=\"text-align: right;\">\n",
       "      <th></th>\n",
       "      <th>Global_Sales</th>\n",
       "    </tr>\n",
       "    <tr>\n",
       "      <th>Year</th>\n",
       "      <th></th>\n",
       "    </tr>\n",
       "  </thead>\n",
       "  <tbody>\n",
       "    <tr>\n",
       "      <th>2008.0</th>\n",
       "      <td>678.90</td>\n",
       "    </tr>\n",
       "    <tr>\n",
       "      <th>2009.0</th>\n",
       "      <td>667.30</td>\n",
       "    </tr>\n",
       "    <tr>\n",
       "      <th>2007.0</th>\n",
       "      <td>609.92</td>\n",
       "    </tr>\n",
       "    <tr>\n",
       "      <th>2010.0</th>\n",
       "      <td>600.29</td>\n",
       "    </tr>\n",
       "    <tr>\n",
       "      <th>2006.0</th>\n",
       "      <td>521.04</td>\n",
       "    </tr>\n",
       "    <tr>\n",
       "      <th>2011.0</th>\n",
       "      <td>515.80</td>\n",
       "    </tr>\n",
       "    <tr>\n",
       "      <th>2005.0</th>\n",
       "      <td>458.51</td>\n",
       "    </tr>\n",
       "    <tr>\n",
       "      <th>2004.0</th>\n",
       "      <td>414.01</td>\n",
       "    </tr>\n",
       "    <tr>\n",
       "      <th>2002.0</th>\n",
       "      <td>395.52</td>\n",
       "    </tr>\n",
       "    <tr>\n",
       "      <th>2013.0</th>\n",
       "      <td>368.11</td>\n",
       "    </tr>\n",
       "    <tr>\n",
       "      <th>2012.0</th>\n",
       "      <td>363.49</td>\n",
       "    </tr>\n",
       "    <tr>\n",
       "      <th>2003.0</th>\n",
       "      <td>357.85</td>\n",
       "    </tr>\n",
       "    <tr>\n",
       "      <th>2014.0</th>\n",
       "      <td>337.03</td>\n",
       "    </tr>\n",
       "    <tr>\n",
       "      <th>2001.0</th>\n",
       "      <td>331.47</td>\n",
       "    </tr>\n",
       "    <tr>\n",
       "      <th>2015.0</th>\n",
       "      <td>264.44</td>\n",
       "    </tr>\n",
       "    <tr>\n",
       "      <th>1998.0</th>\n",
       "      <td>256.47</td>\n",
       "    </tr>\n",
       "    <tr>\n",
       "      <th>1999.0</th>\n",
       "      <td>251.27</td>\n",
       "    </tr>\n",
       "    <tr>\n",
       "      <th>2000.0</th>\n",
       "      <td>201.56</td>\n",
       "    </tr>\n",
       "    <tr>\n",
       "      <th>1997.0</th>\n",
       "      <td>200.98</td>\n",
       "    </tr>\n",
       "    <tr>\n",
       "      <th>1996.0</th>\n",
       "      <td>199.15</td>\n",
       "    </tr>\n",
       "    <tr>\n",
       "      <th>1995.0</th>\n",
       "      <td>88.11</td>\n",
       "    </tr>\n",
       "    <tr>\n",
       "      <th>1994.0</th>\n",
       "      <td>79.17</td>\n",
       "    </tr>\n",
       "    <tr>\n",
       "      <th>1992.0</th>\n",
       "      <td>76.16</td>\n",
       "    </tr>\n",
       "    <tr>\n",
       "      <th>1989.0</th>\n",
       "      <td>73.45</td>\n",
       "    </tr>\n",
       "    <tr>\n",
       "      <th>2016.0</th>\n",
       "      <td>70.90</td>\n",
       "    </tr>\n",
       "    <tr>\n",
       "      <th>1985.0</th>\n",
       "      <td>53.94</td>\n",
       "    </tr>\n",
       "    <tr>\n",
       "      <th>1984.0</th>\n",
       "      <td>50.36</td>\n",
       "    </tr>\n",
       "    <tr>\n",
       "      <th>1990.0</th>\n",
       "      <td>49.39</td>\n",
       "    </tr>\n",
       "    <tr>\n",
       "      <th>1988.0</th>\n",
       "      <td>47.22</td>\n",
       "    </tr>\n",
       "    <tr>\n",
       "      <th>1993.0</th>\n",
       "      <td>45.98</td>\n",
       "    </tr>\n",
       "    <tr>\n",
       "      <th>1986.0</th>\n",
       "      <td>37.07</td>\n",
       "    </tr>\n",
       "    <tr>\n",
       "      <th>1981.0</th>\n",
       "      <td>35.77</td>\n",
       "    </tr>\n",
       "    <tr>\n",
       "      <th>1991.0</th>\n",
       "      <td>32.23</td>\n",
       "    </tr>\n",
       "    <tr>\n",
       "      <th>1982.0</th>\n",
       "      <td>28.86</td>\n",
       "    </tr>\n",
       "    <tr>\n",
       "      <th>1987.0</th>\n",
       "      <td>21.74</td>\n",
       "    </tr>\n",
       "    <tr>\n",
       "      <th>1983.0</th>\n",
       "      <td>16.79</td>\n",
       "    </tr>\n",
       "    <tr>\n",
       "      <th>1980.0</th>\n",
       "      <td>11.38</td>\n",
       "    </tr>\n",
       "    <tr>\n",
       "      <th>2020.0</th>\n",
       "      <td>0.29</td>\n",
       "    </tr>\n",
       "    <tr>\n",
       "      <th>2017.0</th>\n",
       "      <td>0.05</td>\n",
       "    </tr>\n",
       "  </tbody>\n",
       "</table>\n",
       "</div>"
      ],
      "text/plain": [
       "        Global_Sales\n",
       "Year                \n",
       "2008.0        678.90\n",
       "2009.0        667.30\n",
       "2007.0        609.92\n",
       "2010.0        600.29\n",
       "2006.0        521.04\n",
       "2011.0        515.80\n",
       "2005.0        458.51\n",
       "2004.0        414.01\n",
       "2002.0        395.52\n",
       "2013.0        368.11\n",
       "2012.0        363.49\n",
       "2003.0        357.85\n",
       "2014.0        337.03\n",
       "2001.0        331.47\n",
       "2015.0        264.44\n",
       "1998.0        256.47\n",
       "1999.0        251.27\n",
       "2000.0        201.56\n",
       "1997.0        200.98\n",
       "1996.0        199.15\n",
       "1995.0         88.11\n",
       "1994.0         79.17\n",
       "1992.0         76.16\n",
       "1989.0         73.45\n",
       "2016.0         70.90\n",
       "1985.0         53.94\n",
       "1984.0         50.36\n",
       "1990.0         49.39\n",
       "1988.0         47.22\n",
       "1993.0         45.98\n",
       "1986.0         37.07\n",
       "1981.0         35.77\n",
       "1991.0         32.23\n",
       "1982.0         28.86\n",
       "1987.0         21.74\n",
       "1983.0         16.79\n",
       "1980.0         11.38\n",
       "2020.0          0.29\n",
       "2017.0          0.05"
      ]
     },
     "execution_count": 12,
     "metadata": {},
     "output_type": "execute_result"
    }
   ],
   "source": [
    "games_years = games.groupby('Year')['Global_Sales'].sum().sort_values(ascending = False).to_frame()\n",
    "games_years"
   ]
  },
  {
   "cell_type": "markdown",
   "metadata": {},
   "source": [
    "Now we will display a graph showing the rate of sales growth relative to the previous year, not forgetting the general trend, especially the catastrophic drop in sales in recent years"
   ]
  },
  {
   "cell_type": "code",
   "execution_count": 13,
   "metadata": {},
   "outputs": [
    {
     "data": {
      "text/plain": [
       "(array([ 0,  1,  2,  3,  4,  5,  6,  7,  8,  9, 10, 11, 12, 13, 14, 15, 16,\n",
       "        17, 18, 19, 20, 21, 22, 23, 24, 25, 26, 27, 28, 29, 30, 31, 32, 33,\n",
       "        34, 35, 36, 37, 38]),\n",
       " <a list of 39 Text major ticklabel objects>)"
      ]
     },
     "execution_count": 13,
     "metadata": {},
     "output_type": "execute_result"
    },
    {
     "data": {
      "image/png": "[encoded data removed]",
      "text/plain": [
       "<Figure size 432x288 with 1 Axes>"
      ]
     },
     "metadata": {
      "needs_background": "light"
     },
     "output_type": "display_data"
    }
   ],
   "source": [
    "games_years = games.groupby('Year')['Global_Sales'].sum().to_frame()\n",
    "games_years = games_years.pct_change()\n",
    "games_years = games_years.reset_index()\n",
    "games_years['Year'] = games_years['Year'].astype(int)\n",
    "games_years = games_years.set_index('Year')\n",
    "games_years['Global_Sales'].plot(kind = 'bar');\n",
    "plt.title('The growth rate of \"Global_Sales\" in each year', fontsize = 20, fontname = 'Times')\n",
    "plt.xlabel('Year', fontsize = 17, fontname = 'Times')\n",
    "plt.ylabel('Times', fontsize = 17, fontname = 'Times')\n",
    "plt.xticks(rotation='vertical')"
   ]
  },
  {
   "cell_type": "markdown",
   "metadata": {},
   "source": [
    "Let's add a column with categories by \"Global_Sales\" with intervals of 5 million dollars."
   ]
  },
  {
   "cell_type": "code",
   "execution_count": 14,
   "metadata": {},
   "outputs": [
    {
     "data": {
      "text/html": [
       "<div>\n",
       "<style scoped>\n",
       "    .dataframe tbody tr th:only-of-type {\n",
       "        vertical-align: middle;\n",
       "    }\n",
       "\n",
       "    .dataframe tbody tr th {\n",
       "        vertical-align: top;\n",
       "    }\n",
       "\n",
       "    .dataframe thead th {\n",
       "        text-align: right;\n",
       "    }\n",
       "</style>\n",
       "<table border=\"1\" class=\"dataframe\">\n",
       "  <thead>\n",
       "    <tr style=\"text-align: right;\">\n",
       "      <th></th>\n",
       "      <th>Rank</th>\n",
       "      <th>Name</th>\n",
       "      <th>Platform</th>\n",
       "      <th>Year</th>\n",
       "      <th>Genre</th>\n",
       "      <th>Publisher</th>\n",
       "      <th>NA_Sales</th>\n",
       "      <th>EU_Sales</th>\n",
       "      <th>JP_Sales</th>\n",
       "      <th>Other_Sales</th>\n",
       "      <th>Global_Sales</th>\n",
       "      <th>Global_Sales_Bins</th>\n",
       "    </tr>\n",
       "  </thead>\n",
       "  <tbody>\n",
       "    <tr>\n",
       "      <th>0</th>\n",
       "      <td>1</td>\n",
       "      <td>Wii Sports</td>\n",
       "      <td>Wii</td>\n",
       "      <td>2006.0</td>\n",
       "      <td>Sports</td>\n",
       "      <td>Nintendo</td>\n",
       "      <td>41.49</td>\n",
       "      <td>29.02</td>\n",
       "      <td>3.77</td>\n",
       "      <td>8.46</td>\n",
       "      <td>82.74</td>\n",
       "      <td>(80, 85]</td>\n",
       "    </tr>\n",
       "    <tr>\n",
       "      <th>1</th>\n",
       "      <td>2</td>\n",
       "      <td>Super Mario Bros.</td>\n",
       "      <td>NES</td>\n",
       "      <td>1985.0</td>\n",
       "      <td>Platform</td>\n",
       "      <td>Nintendo</td>\n",
       "      <td>29.08</td>\n",
       "      <td>3.58</td>\n",
       "      <td>6.81</td>\n",
       "      <td>0.77</td>\n",
       "      <td>40.24</td>\n",
       "      <td>(40, 45]</td>\n",
       "    </tr>\n",
       "    <tr>\n",
       "      <th>2</th>\n",
       "      <td>3</td>\n",
       "      <td>Mario Kart Wii</td>\n",
       "      <td>Wii</td>\n",
       "      <td>2008.0</td>\n",
       "      <td>Racing</td>\n",
       "      <td>Nintendo</td>\n",
       "      <td>15.85</td>\n",
       "      <td>12.88</td>\n",
       "      <td>3.79</td>\n",
       "      <td>3.31</td>\n",
       "      <td>35.82</td>\n",
       "      <td>(35, 40]</td>\n",
       "    </tr>\n",
       "    <tr>\n",
       "      <th>3</th>\n",
       "      <td>4</td>\n",
       "      <td>Wii Sports Resort</td>\n",
       "      <td>Wii</td>\n",
       "      <td>2009.0</td>\n",
       "      <td>Sports</td>\n",
       "      <td>Nintendo</td>\n",
       "      <td>15.75</td>\n",
       "      <td>11.01</td>\n",
       "      <td>3.28</td>\n",
       "      <td>2.96</td>\n",
       "      <td>33.00</td>\n",
       "      <td>(30, 35]</td>\n",
       "    </tr>\n",
       "    <tr>\n",
       "      <th>4</th>\n",
       "      <td>5</td>\n",
       "      <td>Pokemon Red/Pokemon Blue</td>\n",
       "      <td>GB</td>\n",
       "      <td>1996.0</td>\n",
       "      <td>Role-Playing</td>\n",
       "      <td>Nintendo</td>\n",
       "      <td>11.27</td>\n",
       "      <td>8.89</td>\n",
       "      <td>10.22</td>\n",
       "      <td>1.00</td>\n",
       "      <td>31.37</td>\n",
       "      <td>(30, 35]</td>\n",
       "    </tr>\n",
       "    <tr>\n",
       "      <th>...</th>\n",
       "      <td>...</td>\n",
       "      <td>...</td>\n",
       "      <td>...</td>\n",
       "      <td>...</td>\n",
       "      <td>...</td>\n",
       "      <td>...</td>\n",
       "      <td>...</td>\n",
       "      <td>...</td>\n",
       "      <td>...</td>\n",
       "      <td>...</td>\n",
       "      <td>...</td>\n",
       "      <td>...</td>\n",
       "    </tr>\n",
       "    <tr>\n",
       "      <th>16593</th>\n",
       "      <td>16596</td>\n",
       "      <td>Woody Woodpecker in Crazy Castle 5</td>\n",
       "      <td>GBA</td>\n",
       "      <td>2002.0</td>\n",
       "      <td>Platform</td>\n",
       "      <td>Kemco</td>\n",
       "      <td>0.01</td>\n",
       "      <td>0.00</td>\n",
       "      <td>0.00</td>\n",
       "      <td>0.00</td>\n",
       "      <td>0.01</td>\n",
       "      <td>(0, 5]</td>\n",
       "    </tr>\n",
       "    <tr>\n",
       "      <th>16594</th>\n",
       "      <td>16597</td>\n",
       "      <td>Men in Black II: Alien Escape</td>\n",
       "      <td>GC</td>\n",
       "      <td>2003.0</td>\n",
       "      <td>Shooter</td>\n",
       "      <td>Infogrames</td>\n",
       "      <td>0.01</td>\n",
       "      <td>0.00</td>\n",
       "      <td>0.00</td>\n",
       "      <td>0.00</td>\n",
       "      <td>0.01</td>\n",
       "      <td>(0, 5]</td>\n",
       "    </tr>\n",
       "    <tr>\n",
       "      <th>16595</th>\n",
       "      <td>16598</td>\n",
       "      <td>SCORE International Baja 1000: The Official Game</td>\n",
       "      <td>PS2</td>\n",
       "      <td>2008.0</td>\n",
       "      <td>Racing</td>\n",
       "      <td>Activision</td>\n",
       "      <td>0.00</td>\n",
       "      <td>0.00</td>\n",
       "      <td>0.00</td>\n",
       "      <td>0.00</td>\n",
       "      <td>0.01</td>\n",
       "      <td>(0, 5]</td>\n",
       "    </tr>\n",
       "    <tr>\n",
       "      <th>16596</th>\n",
       "      <td>16599</td>\n",
       "      <td>Know How 2</td>\n",
       "      <td>DS</td>\n",
       "      <td>2010.0</td>\n",
       "      <td>Puzzle</td>\n",
       "      <td>7G//AMES</td>\n",
       "      <td>0.00</td>\n",
       "      <td>0.01</td>\n",
       "      <td>0.00</td>\n",
       "      <td>0.00</td>\n",
       "      <td>0.01</td>\n",
       "      <td>(0, 5]</td>\n",
       "    </tr>\n",
       "    <tr>\n",
       "      <th>16597</th>\n",
       "      <td>16600</td>\n",
       "      <td>Spirits &amp; Spells</td>\n",
       "      <td>GBA</td>\n",
       "      <td>2003.0</td>\n",
       "      <td>Platform</td>\n",
       "      <td>Wanadoo</td>\n",
       "      <td>0.01</td>\n",
       "      <td>0.00</td>\n",
       "      <td>0.00</td>\n",
       "      <td>0.00</td>\n",
       "      <td>0.01</td>\n",
       "      <td>(0, 5]</td>\n",
       "    </tr>\n",
       "  </tbody>\n",
       "</table>\n",
       "<p>16291 rows × 12 columns</p>\n",
       "</div>"
      ],
      "text/plain": [
       "        Rank                                              Name Platform  \\\n",
       "0          1                                        Wii Sports      Wii   \n",
       "1          2                                 Super Mario Bros.      NES   \n",
       "2          3                                    Mario Kart Wii      Wii   \n",
       "3          4                                 Wii Sports Resort      Wii   \n",
       "4          5                          Pokemon Red/Pokemon Blue       GB   \n",
       "...      ...                                               ...      ...   \n",
       "16593  16596                Woody Woodpecker in Crazy Castle 5      GBA   \n",
       "16594  16597                     Men in Black II: Alien Escape       GC   \n",
       "16595  16598  SCORE International Baja 1000: The Official Game      PS2   \n",
       "16596  16599                                        Know How 2       DS   \n",
       "16597  16600                                  Spirits & Spells      GBA   \n",
       "\n",
       "         Year         Genre   Publisher  NA_Sales  EU_Sales  JP_Sales  \\\n",
       "0      2006.0        Sports    Nintendo     41.49     29.02      3.77   \n",
       "1      1985.0      Platform    Nintendo     29.08      3.58      6.81   \n",
       "2      2008.0        Racing    Nintendo     15.85     12.88      3.79   \n",
       "3      2009.0        Sports    Nintendo     15.75     11.01      3.28   \n",
       "4      1996.0  Role-Playing    Nintendo     11.27      8.89     10.22   \n",
       "...       ...           ...         ...       ...       ...       ...   \n",
       "16593  2002.0      Platform       Kemco      0.01      0.00      0.00   \n",
       "16594  2003.0       Shooter  Infogrames      0.01      0.00      0.00   \n",
       "16595  2008.0        Racing  Activision      0.00      0.00      0.00   \n",
       "16596  2010.0        Puzzle    7G//AMES      0.00      0.01      0.00   \n",
       "16597  2003.0      Platform     Wanadoo      0.01      0.00      0.00   \n",
       "\n",
       "       Other_Sales  Global_Sales Global_Sales_Bins  \n",
       "0             8.46         82.74          (80, 85]  \n",
       "1             0.77         40.24          (40, 45]  \n",
       "2             3.31         35.82          (35, 40]  \n",
       "3             2.96         33.00          (30, 35]  \n",
       "4             1.00         31.37          (30, 35]  \n",
       "...            ...           ...               ...  \n",
       "16593         0.00          0.01            (0, 5]  \n",
       "16594         0.00          0.01            (0, 5]  \n",
       "16595         0.00          0.01            (0, 5]  \n",
       "16596         0.00          0.01            (0, 5]  \n",
       "16597         0.00          0.01            (0, 5]  \n",
       "\n",
       "[16291 rows x 12 columns]"
      ]
     },
     "execution_count": 14,
     "metadata": {},
     "output_type": "execute_result"
    }
   ],
   "source": [
    "maxx = games['Global_Sales'].max()\n",
    "ranges = range(0, int(maxx) + 11, 5)\n",
    "binsss = pd.cut(games['Global_Sales'], bins = ranges, right = True)\n",
    "games_with_bins = games.assign(Global_Sales_Bins = binsss)\n",
    "games_with_bins"
   ]
  },
  {
   "cell_type": "markdown",
   "metadata": {},
   "source": [
    "We are convinced that the vast majority of games are on the verge of extinction, or are popular in narrow circles."
   ]
  },
  {
   "cell_type": "code",
   "execution_count": 16,
   "metadata": {},
   "outputs": [
    {
     "data": {
      "image/png": "[encoded data removed]",
      "text/plain": [
       "<Figure size 1080x360 with 1 Axes>"
      ]
     },
     "metadata": {},
     "output_type": "display_data"
    }
   ],
   "source": [
    "a = games_with_bins['Global_Sales_Bins']\n",
    "sns.set(rc={'figure.figsize':(15, 5)})\n",
    "sns.countplot(data=games_with_bins, x = 'Global_Sales_Bins');"
   ]
  },
  {
   "cell_type": "markdown",
   "metadata": {},
   "source": [
    "Another way to test this is to apply sns.joint plat, breaking down games, for example, by genre:"
   ]
  },
  {
   "cell_type": "code",
   "execution_count": 288,
   "metadata": {},
   "outputs": [
    {
     "data": {
      "image/png": "[encoded data removed]",
      "text/plain": [
       "<Figure size 864x864 with 3 Axes>"
      ]
     },
     "metadata": {},
     "output_type": "display_data"
    }
   ],
   "source": [
    "sns.jointplot(data = games, x = 'Genre', y = 'Global_Sales', kind = 'scatter', height = 12);"
   ]
  },
  {
   "cell_type": "markdown",
   "metadata": {},
   "source": [
    "**Defining the category**"
   ]
  },
  {
   "cell_type": "markdown",
   "metadata": {},
   "source": [
    "We will output the average and total number of sales for various game genres"
   ]
  },
  {
   "cell_type": "code",
   "execution_count": 340,
   "metadata": {},
   "outputs": [
    {
     "data": {
      "image/png": "[encoded data removed]",
      "text/plain": [
       "<Figure size 1080x360 with 1 Axes>"
      ]
     },
     "metadata": {},
     "output_type": "display_data"
    }
   ],
   "source": [
    "categories_sum = games.groupby('Genre')['Global_Sales'].sum().sort_values(ascending = False).to_frame()\n",
    "plt.plot(categories_sum['Global_Sales'], color = 'y');"
   ]
  },
  {
   "cell_type": "code",
   "execution_count": 291,
   "metadata": {},
   "outputs": [
    {
     "data": {
      "image/png": "[encoded data removed]",
      "text/plain": [
       "<Figure size 1080x360 with 1 Axes>"
      ]
     },
     "metadata": {},
     "output_type": "display_data"
    }
   ],
   "source": [
    "categories_mean = games.groupby('Genre')['Global_Sales'].mean().sort_values(ascending = False).to_frame()\n",
    "a = plt.plot(categories_mean['Global_Sales'], color = 'r')"
   ]
  },
  {
   "cell_type": "markdown",
   "metadata": {},
   "source": [
    "We observe a completely different picture...we will do the same for the last 5 and 10 years for greater awareness, only now through datasets"
   ]
  },
  {
   "cell_type": "code",
   "execution_count": 292,
   "metadata": {},
   "outputs": [
    {
     "data": {
      "text/html": [
       "<div>\n",
       "<style scoped>\n",
       "    .dataframe tbody tr th:only-of-type {\n",
       "        vertical-align: middle;\n",
       "    }\n",
       "\n",
       "    .dataframe tbody tr th {\n",
       "        vertical-align: top;\n",
       "    }\n",
       "\n",
       "    .dataframe thead th {\n",
       "        text-align: right;\n",
       "    }\n",
       "</style>\n",
       "<table border=\"1\" class=\"dataframe\">\n",
       "  <thead>\n",
       "    <tr style=\"text-align: right;\">\n",
       "      <th></th>\n",
       "      <th>Global_Sales_sum_5</th>\n",
       "      <th>Global_Sales_sum_10</th>\n",
       "    </tr>\n",
       "    <tr>\n",
       "      <th>Genre</th>\n",
       "      <th></th>\n",
       "      <th></th>\n",
       "    </tr>\n",
       "  </thead>\n",
       "  <tbody>\n",
       "    <tr>\n",
       "      <th>Action</th>\n",
       "      <td>90.61</td>\n",
       "      <td>673.46</td>\n",
       "    </tr>\n",
       "    <tr>\n",
       "      <th>Shooter</th>\n",
       "      <td>84.37</td>\n",
       "      <td>462.80</td>\n",
       "    </tr>\n",
       "    <tr>\n",
       "      <th>Sports</th>\n",
       "      <td>56.14</td>\n",
       "      <td>324.80</td>\n",
       "    </tr>\n",
       "    <tr>\n",
       "      <th>Role-Playing</th>\n",
       "      <td>43.24</td>\n",
       "      <td>305.71</td>\n",
       "    </tr>\n",
       "    <tr>\n",
       "      <th>Misc</th>\n",
       "      <td>12.86</td>\n",
       "      <td>238.05</td>\n",
       "    </tr>\n",
       "    <tr>\n",
       "      <th>Fighting</th>\n",
       "      <td>11.64</td>\n",
       "      <td>82.08</td>\n",
       "    </tr>\n",
       "    <tr>\n",
       "      <th>Adventure</th>\n",
       "      <td>9.82</td>\n",
       "      <td>61.03</td>\n",
       "    </tr>\n",
       "    <tr>\n",
       "      <th>Racing</th>\n",
       "      <td>9.56</td>\n",
       "      <td>123.68</td>\n",
       "    </tr>\n",
       "    <tr>\n",
       "      <th>Platform</th>\n",
       "      <td>8.12</td>\n",
       "      <td>120.67</td>\n",
       "    </tr>\n",
       "    <tr>\n",
       "      <th>Simulation</th>\n",
       "      <td>6.30</td>\n",
       "      <td>71.15</td>\n",
       "    </tr>\n",
       "    <tr>\n",
       "      <th>Strategy</th>\n",
       "      <td>2.32</td>\n",
       "      <td>35.74</td>\n",
       "    </tr>\n",
       "    <tr>\n",
       "      <th>Puzzle</th>\n",
       "      <td>0.70</td>\n",
       "      <td>21.23</td>\n",
       "    </tr>\n",
       "  </tbody>\n",
       "</table>\n",
       "</div>"
      ],
      "text/plain": [
       "              Global_Sales_sum_5  Global_Sales_sum_10\n",
       "Genre                                                \n",
       "Action                     90.61               673.46\n",
       "Shooter                    84.37               462.80\n",
       "Sports                     56.14               324.80\n",
       "Role-Playing               43.24               305.71\n",
       "Misc                       12.86               238.05\n",
       "Fighting                   11.64                82.08\n",
       "Adventure                   9.82                61.03\n",
       "Racing                      9.56               123.68\n",
       "Platform                    8.12               120.67\n",
       "Simulation                  6.30                71.15\n",
       "Strategy                    2.32                35.74\n",
       "Puzzle                      0.70                21.23"
      ]
     },
     "execution_count": 292,
     "metadata": {},
     "output_type": "execute_result"
    }
   ],
   "source": [
    "categories_sum_last_10 = games.loc[games['Year'] >= 2010].groupby('Genre')['Global_Sales'].sum().sort_values(ascending = False).to_frame()\n",
    "categories_sum_last_5 = games.loc[games['Year'] >= 2015].groupby('Genre')['Global_Sales'].sum().sort_values(ascending = False).to_frame()\n",
    "categories_sum_last_5_and_10 = categories_sum_last_5.assign(Global_Sales_sum_10 = categories_sum_last_10)\n",
    "categories_sum_last_5_and_10.rename(columns = {'Global_Sales':'Global_Sales_sum_5'}, inplace = True)\n",
    "categories_sum_last_5_and_10"
   ]
  },
  {
   "cell_type": "code",
   "execution_count": 293,
   "metadata": {},
   "outputs": [
    {
     "data": {
      "text/html": [
       "<div>\n",
       "<style scoped>\n",
       "    .dataframe tbody tr th:only-of-type {\n",
       "        vertical-align: middle;\n",
       "    }\n",
       "\n",
       "    .dataframe tbody tr th {\n",
       "        vertical-align: top;\n",
       "    }\n",
       "\n",
       "    .dataframe thead th {\n",
       "        text-align: right;\n",
       "    }\n",
       "</style>\n",
       "<table border=\"1\" class=\"dataframe\">\n",
       "  <thead>\n",
       "    <tr style=\"text-align: right;\">\n",
       "      <th></th>\n",
       "      <th>Global_Sales_mean_5</th>\n",
       "      <th>Global_Sales_mean_10</th>\n",
       "    </tr>\n",
       "    <tr>\n",
       "      <th>Genre</th>\n",
       "      <th></th>\n",
       "      <th></th>\n",
       "    </tr>\n",
       "  </thead>\n",
       "  <tbody>\n",
       "    <tr>\n",
       "      <th>Shooter</th>\n",
       "      <td>1.278333</td>\n",
       "      <td>1.171646</td>\n",
       "    </tr>\n",
       "    <tr>\n",
       "      <th>Sports</th>\n",
       "      <td>0.561400</td>\n",
       "      <td>0.569825</td>\n",
       "    </tr>\n",
       "    <tr>\n",
       "      <th>Role-Playing</th>\n",
       "      <td>0.360333</td>\n",
       "      <td>0.548851</td>\n",
       "    </tr>\n",
       "    <tr>\n",
       "      <th>Platform</th>\n",
       "      <td>0.338333</td>\n",
       "      <td>0.804467</td>\n",
       "    </tr>\n",
       "    <tr>\n",
       "      <th>Fighting</th>\n",
       "      <td>0.332571</td>\n",
       "      <td>0.416650</td>\n",
       "    </tr>\n",
       "    <tr>\n",
       "      <th>Simulation</th>\n",
       "      <td>0.252000</td>\n",
       "      <td>0.343720</td>\n",
       "    </tr>\n",
       "    <tr>\n",
       "      <th>Racing</th>\n",
       "      <td>0.245128</td>\n",
       "      <td>0.530815</td>\n",
       "    </tr>\n",
       "    <tr>\n",
       "      <th>Action</th>\n",
       "      <td>0.242273</td>\n",
       "      <td>0.468331</td>\n",
       "    </tr>\n",
       "    <tr>\n",
       "      <th>Misc</th>\n",
       "      <td>0.225614</td>\n",
       "      <td>0.422824</td>\n",
       "    </tr>\n",
       "    <tr>\n",
       "      <th>Puzzle</th>\n",
       "      <td>0.116667</td>\n",
       "      <td>0.184609</td>\n",
       "    </tr>\n",
       "    <tr>\n",
       "      <th>Adventure</th>\n",
       "      <td>0.112874</td>\n",
       "      <td>0.112601</td>\n",
       "    </tr>\n",
       "    <tr>\n",
       "      <th>Strategy</th>\n",
       "      <td>0.085926</td>\n",
       "      <td>0.214012</td>\n",
       "    </tr>\n",
       "  </tbody>\n",
       "</table>\n",
       "</div>"
      ],
      "text/plain": [
       "              Global_Sales_mean_5  Global_Sales_mean_10\n",
       "Genre                                                  \n",
       "Shooter                  1.278333              1.171646\n",
       "Sports                   0.561400              0.569825\n",
       "Role-Playing             0.360333              0.548851\n",
       "Platform                 0.338333              0.804467\n",
       "Fighting                 0.332571              0.416650\n",
       "Simulation               0.252000              0.343720\n",
       "Racing                   0.245128              0.530815\n",
       "Action                   0.242273              0.468331\n",
       "Misc                     0.225614              0.422824\n",
       "Puzzle                   0.116667              0.184609\n",
       "Adventure                0.112874              0.112601\n",
       "Strategy                 0.085926              0.214012"
      ]
     },
     "execution_count": 293,
     "metadata": {},
     "output_type": "execute_result"
    }
   ],
   "source": [
    "categories_mean_last_10 = games.loc[games['Year'] >= 2010].groupby('Genre')['Global_Sales'].mean().sort_values(ascending = False).to_frame()\n",
    "categories_mean_last_5 = games.loc[games['Year'] >= 2015].groupby('Genre')['Global_Sales'].mean().sort_values(ascending = False).to_frame()\n",
    "categories_mean_last_5_and_10 = categories_mean_last_5.assign(Global_Sales_mean_10 = categories_mean_last_10)\n",
    "categories_mean_last_5_and_10.rename(columns = {'Global_Sales':'Global_Sales_mean_5'}, inplace = True)\n",
    "categories_mean_last_5_and_10"
   ]
  },
  {
   "cell_type": "markdown",
   "metadata": {},
   "source": [
    "Thus, it can be seen that the games of the \"Shooter\" category have the greatest potential, since they are not only leading in average value, but they also occupy the second place in the total number of sales, unlike \"Action\" games, which lose on average, and, therefore, have not been popular recently. Therefore, it is necessary to specialize in the production of shooters."
   ]
  },
  {
   "cell_type": "markdown",
   "metadata": {},
   "source": [
    "**Identify the target market**"
   ]
  },
  {
   "cell_type": "markdown",
   "metadata": {},
   "source": [
    "Now let's find out where the most number of Shooters are sold"
   ]
  },
  {
   "cell_type": "code",
   "execution_count": 294,
   "metadata": {},
   "outputs": [
    {
     "name": "stdout",
     "output_type": "stream",
     "text": [
      "NA_Sales: 575.16 EU_Sales: 310.45 JP_Sales: 38.18 Other_Sales: 101.9\n"
     ]
    }
   ],
   "source": [
    "games_shooters = games.loc[games['Genre'] == 'Shooter']\n",
    "print('NA_Sales:', games_shooters['NA_Sales'].sum(), 'EU_Sales:', games_shooters['EU_Sales'].sum(),\n",
    "                 'JP_Sales:', games_shooters['JP_Sales'].sum(), 'Other_Sales:', games_shooters['Other_Sales'].sum())"
   ]
  },
  {
   "cell_type": "markdown",
   "metadata": {},
   "source": [
    "We get that this is America, which means that the company's activities will be started there."
   ]
  },
  {
   "cell_type": "markdown",
   "metadata": {},
   "source": [
    "**Study of the competitive environment**"
   ]
  },
  {
   "cell_type": "markdown",
   "metadata": {},
   "source": [
    "Let's deduce the share of the largest publishers on the world market over the past 10 years to determine the best cooperation"
   ]
  },
  {
   "cell_type": "code",
   "execution_count": 18,
   "metadata": {},
   "outputs": [
    {
     "data": {
      "text/plain": [
       "Text(0, 0.5, 'Share')"
      ]
     },
     "execution_count": 18,
     "metadata": {},
     "output_type": "execute_result"
    },
    {
     "data": {
      "image/png": "[encoded data removed]",
      "text/plain": [
       "<Figure size 1080x360 with 1 Axes>"
      ]
     },
     "metadata": {},
     "output_type": "display_data"
    }
   ],
   "source": [
    "games_latest = games.loc[games['Year'] >= 2010]\n",
    "publishers = games_latest['Publisher'].value_counts().to_frame()\n",
    "publishers = publishers.loc[publishers['Publisher'] >= 100]\n",
    "publishers = publishers.assign(Publisher_share = publishers['Publisher']/publishers['Publisher'].sum())\n",
    "publishers\n",
    "plt.plot(publishers['Publisher_share'])\n",
    "plt.xticks(rotation='vertical'); # больше всего игр выпустила компания Electronic Arts\n",
    "plt.title('The share of different publishers', fontsize = 20)\n",
    "plt.ylabel('Share', fontsize = 20, fontname = 'Times')"
   ]
  },
  {
   "cell_type": "markdown",
   "metadata": {},
   "source": [
    "We will also display the most popular Shooter publishers over the past 10 years"
   ]
  },
  {
   "cell_type": "code",
   "execution_count": 363,
   "metadata": {},
   "outputs": [
    {
     "data": {
      "text/plain": [
       "Text(0, 0.5, 'Number of Sales')"
      ]
     },
     "execution_count": 363,
     "metadata": {},
     "output_type": "execute_result"
    },
    {
     "data": {
      "image/png": "[encoded data removed]",
      "text/plain": [
       "<Figure size 1080x360 with 1 Axes>"
      ]
     },
     "metadata": {},
     "output_type": "display_data"
    }
   ],
   "source": [
    "games_shooters_latest = games_shooters.loc[games_shooters['Year'] >= 2010]\n",
    "games_shooters_publisher = games_shooters_latest['Publisher'].value_counts().to_frame()\n",
    "games_shooters_publisher = games_shooters_publisher.loc[games_shooters_publisher['Publisher'] >= 10]\n",
    "plt.plot(games_shooters_publisher['Publisher'])\n",
    "plt.xticks(rotation='vertical');\n",
    "plt.title('The shooter-games-share of different publishers', fontsize = 20)\n",
    "plt.ylabel('Number of Sales', fontsize = 20, fontname = 'Times')"
   ]
  },
  {
   "cell_type": "markdown",
   "metadata": {},
   "source": [
    "From the last two graphs, we can conclude which companies are the most promising in general and in the chosen field (production of shooter-games).\n",
    "These are, for example, Activision, Electronic Arts, Ubisoft, etc. But with Namco, Bandai Games certainly should not be considered the main partners, since these companies do not specialize in Shooters."
   ]
  },
  {
   "cell_type": "markdown",
   "metadata": {},
   "source": [
    "**Learning about gaming platforms**"
   ]
  },
  {
   "cell_type": "markdown",
   "metadata": {},
   "source": [
    "Consider the sales on each of the platforms as a whole, then only shooter games also over the past 10 years"
   ]
  },
  {
   "cell_type": "code",
   "execution_count": 305,
   "metadata": {},
   "outputs": [
    {
     "data": {
      "text/plain": [
       "Text(0, 0.5, 'Number of Sales')"
      ]
     },
     "execution_count": 305,
     "metadata": {},
     "output_type": "execute_result"
    },
    {
     "data": {
      "image/png": "[encoded data removed]",
      "text/plain": [
       "<Figure size 1080x360 with 1 Axes>"
      ]
     },
     "metadata": {},
     "output_type": "display_data"
    }
   ],
   "source": [
    "platforms_total_sales = games_latest.groupby('Platform')['Global_Sales'].sum().sort_values().to_frame()\n",
    "plt.plot(platforms_total_sales['Global_Sales'])\n",
    "plt.title('The number of global sales by platforms', fontdict = {'fontsize':20})\n",
    "plt.xlabel('Platforms', fontsize = 15)\n",
    "plt.ylabel('Number of Sales', fontsize = 15)"
   ]
  },
  {
   "cell_type": "code",
   "execution_count": 306,
   "metadata": {},
   "outputs": [
    {
     "data": {
      "text/plain": [
       "Text(0, 0.5, 'Number of Sales')"
      ]
     },
     "execution_count": 306,
     "metadata": {},
     "output_type": "execute_result"
    },
    {
     "data": {
      "image/png": "[encoded data removed]",
      "text/plain": [
       "<Figure size 1080x360 with 1 Axes>"
      ]
     },
     "metadata": {},
     "output_type": "display_data"
    }
   ],
   "source": [
    "platforms_shooters = games_shooters_latest.groupby('Platform')['Global_Sales'].sum().sort_values().to_frame()\n",
    "plt.plot(platforms_shooters['Global_Sales'])\n",
    "plt.title('The number of global sales by platforms', fontdict = {'fontsize':20})\n",
    "plt.xlabel('Platforms', fontsize = 15)\n",
    "plt.ylabel('Number of Sales', fontsize = 15)"
   ]
  },
  {
   "cell_type": "markdown",
   "metadata": {},
   "source": [
    "Thus, platforms such as PS3, PS4, X360, etc. will be the most preferred."
   ]
  },
  {
   "cell_type": "markdown",
   "metadata": {},
   "source": [
    "Let's draw more sales amounts for each of the platforms over the past 10 years using the sns.jointplot"
   ]
  },
  {
   "cell_type": "code",
   "execution_count": 309,
   "metadata": {},
   "outputs": [
    {
     "data": {
      "image/png": "[encoded data removed]",
      "text/plain": [
       "<Figure size 1080x1080 with 3 Axes>"
      ]
     },
     "metadata": {},
     "output_type": "display_data"
    }
   ],
   "source": [
    "sns.jointplot(data = games_latest, x = 'Platform', y = 'Global_Sales', kind = 'scatter', height = 15);"
   ]
  },
  {
   "cell_type": "markdown",
   "metadata": {},
   "source": [
    "**Let's look into the future...**"
   ]
  },
  {
   "cell_type": "markdown",
   "metadata": {},
   "source": [
    "Now we use regression to estimate the amount of sales in the future when certain games are released.\n",
    "Earlier we found out that most shooters are sold in America. Let's write down a program that, with a certain number of sales in America, will be able to predict the number of sales on the world market. This will help you decide whether to go out on it."
   ]
  },
  {
   "cell_type": "code",
   "execution_count": 320,
   "metadata": {},
   "outputs": [
    {
     "data": {
      "text/html": [
       "<table class=\"simpletable\">\n",
       "<caption>OLS Regression Results</caption>\n",
       "<tr>\n",
       "  <th>Dep. Variable:</th>      <td>Global_Sales</td>   <th>  R-squared:         </th> <td>   0.886</td> \n",
       "</tr>\n",
       "<tr>\n",
       "  <th>Model:</th>                   <td>OLS</td>       <th>  Adj. R-squared:    </th> <td>   0.886</td> \n",
       "</tr>\n",
       "<tr>\n",
       "  <th>Method:</th>             <td>Least Squares</td>  <th>  F-statistic:       </th> <td>1.266e+05</td>\n",
       "</tr>\n",
       "<tr>\n",
       "  <th>Date:</th>             <td>Fri, 11 Dec 2020</td> <th>  Prob (F-statistic):</th>  <td>  0.00</td>  \n",
       "</tr>\n",
       "<tr>\n",
       "  <th>Time:</th>                 <td>18:28:32</td>     <th>  Log-Likelihood:    </th> <td> -12749.</td> \n",
       "</tr>\n",
       "<tr>\n",
       "  <th>No. Observations:</th>      <td> 16291</td>      <th>  AIC:               </th> <td>2.550e+04</td>\n",
       "</tr>\n",
       "<tr>\n",
       "  <th>Df Residuals:</th>          <td> 16289</td>      <th>  BIC:               </th> <td>2.552e+04</td>\n",
       "</tr>\n",
       "<tr>\n",
       "  <th>Df Model:</th>              <td>     1</td>      <th>                     </th>     <td> </td>    \n",
       "</tr>\n",
       "<tr>\n",
       "  <th>Covariance Type:</th>      <td>nonrobust</td>    <th>                     </th>     <td> </td>    \n",
       "</tr>\n",
       "</table>\n",
       "<table class=\"simpletable\">\n",
       "<tr>\n",
       "      <td></td>         <th>coef</th>     <th>std err</th>      <th>t</th>      <th>P>|t|</th>  <th>[0.025</th>    <th>0.975]</th>  \n",
       "</tr>\n",
       "<tr>\n",
       "  <th>Intercept</th> <td>    0.0644</td> <td>    0.004</td> <td>   14.777</td> <td> 0.000</td> <td>    0.056</td> <td>    0.073</td>\n",
       "</tr>\n",
       "<tr>\n",
       "  <th>NA_Sales</th>  <td>    1.7938</td> <td>    0.005</td> <td>  355.783</td> <td> 0.000</td> <td>    1.784</td> <td>    1.804</td>\n",
       "</tr>\n",
       "</table>\n",
       "<table class=\"simpletable\">\n",
       "<tr>\n",
       "  <th>Omnibus:</th>       <td>9587.887</td> <th>  Durbin-Watson:     </th>   <td>   1.928</td>  \n",
       "</tr>\n",
       "<tr>\n",
       "  <th>Prob(Omnibus):</th>  <td> 0.000</td>  <th>  Jarque-Bera (JB):  </th> <td>38495037.040</td>\n",
       "</tr>\n",
       "<tr>\n",
       "  <th>Skew:</th>           <td> 1.093</td>  <th>  Prob(JB):          </th>   <td>    0.00</td>  \n",
       "</tr>\n",
       "<tr>\n",
       "  <th>Kurtosis:</th>       <td>241.131</td> <th>  Cond. No.          </th>   <td>    1.42</td>  \n",
       "</tr>\n",
       "</table><br/><br/>Warnings:<br/>[1] Standard Errors assume that the covariance matrix of the errors is correctly specified."
      ],
      "text/plain": [
       "<class 'statsmodels.iolib.summary.Summary'>\n",
       "\"\"\"\n",
       "                            OLS Regression Results                            \n",
       "==============================================================================\n",
       "Dep. Variable:           Global_Sales   R-squared:                       0.886\n",
       "Model:                            OLS   Adj. R-squared:                  0.886\n",
       "Method:                 Least Squares   F-statistic:                 1.266e+05\n",
       "Date:                Fri, 11 Dec 2020   Prob (F-statistic):               0.00\n",
       "Time:                        18:28:32   Log-Likelihood:                -12749.\n",
       "No. Observations:               16291   AIC:                         2.550e+04\n",
       "Df Residuals:                   16289   BIC:                         2.552e+04\n",
       "Df Model:                           1                                         \n",
       "Covariance Type:            nonrobust                                         \n",
       "==============================================================================\n",
       "                 coef    std err          t      P>|t|      [0.025      0.975]\n",
       "------------------------------------------------------------------------------\n",
       "Intercept      0.0644      0.004     14.777      0.000       0.056       0.073\n",
       "NA_Sales       1.7938      0.005    355.783      0.000       1.784       1.804\n",
       "==============================================================================\n",
       "Omnibus:                     9587.887   Durbin-Watson:                   1.928\n",
       "Prob(Omnibus):                  0.000   Jarque-Bera (JB):         38495037.040\n",
       "Skew:                           1.093   Prob(JB):                         0.00\n",
       "Kurtosis:                     241.131   Cond. No.                         1.42\n",
       "==============================================================================\n",
       "\n",
       "Warnings:\n",
       "[1] Standard Errors assume that the covariance matrix of the errors is correctly specified.\n",
       "\"\"\""
      ]
     },
     "execution_count": 320,
     "metadata": {},
     "output_type": "execute_result"
    }
   ],
   "source": [
    "model_sales_1 = smf.ols(data = games, formula = 'Global_Sales ~ NA_Sales') # поставили задачу оптимизации\n",
    "fit_sales_1 = model_sales_1.fit() # компьютер решил задачу оптимизации\n",
    "fit_sales.summary()"
   ]
  },
  {
   "cell_type": "code",
   "execution_count": 312,
   "metadata": {},
   "outputs": [
    {
     "data": {
      "text/plain": [
       "Intercept    0.064389\n",
       "NA_Sales     1.793817\n",
       "dtype: float64"
      ]
     },
     "execution_count": 312,
     "metadata": {},
     "output_type": "execute_result"
    }
   ],
   "source": [
    "fit_sales.params"
   ]
  },
  {
   "cell_type": "code",
   "execution_count": 317,
   "metadata": {},
   "outputs": [
    {
     "data": {
      "text/html": [
       "<div>\n",
       "<style scoped>\n",
       "    .dataframe tbody tr th:only-of-type {\n",
       "        vertical-align: middle;\n",
       "    }\n",
       "\n",
       "    .dataframe tbody tr th {\n",
       "        vertical-align: top;\n",
       "    }\n",
       "\n",
       "    .dataframe thead th {\n",
       "        text-align: right;\n",
       "    }\n",
       "</style>\n",
       "<table border=\"1\" class=\"dataframe\">\n",
       "  <thead>\n",
       "    <tr style=\"text-align: right;\">\n",
       "      <th></th>\n",
       "      <th>NA_Sales</th>\n",
       "    </tr>\n",
       "  </thead>\n",
       "  <tbody>\n",
       "    <tr>\n",
       "      <th>0</th>\n",
       "      <td>1</td>\n",
       "    </tr>\n",
       "    <tr>\n",
       "      <th>1</th>\n",
       "      <td>2</td>\n",
       "    </tr>\n",
       "  </tbody>\n",
       "</table>\n",
       "</div>"
      ],
      "text/plain": [
       "   NA_Sales\n",
       "0         1\n",
       "1         2"
      ]
     },
     "execution_count": 317,
     "metadata": {},
     "output_type": "execute_result"
    }
   ],
   "source": [
    "games_action_new = pd.DataFrame({'NA_Sales': [1, 2]})\n",
    "games_action_new"
   ]
  },
  {
   "cell_type": "code",
   "execution_count": 318,
   "metadata": {},
   "outputs": [
    {
     "data": {
      "text/plain": [
       "0         8.250124\n",
       "1       -11.988601\n",
       "2         7.323604\n",
       "3         4.682986\n",
       "4        11.089288\n",
       "           ...    \n",
       "16593    -0.072327\n",
       "16594    -0.072327\n",
       "16595    -0.054389\n",
       "16596    -0.054389\n",
       "16597    -0.072327\n",
       "Length: 16291, dtype: float64"
      ]
     },
     "execution_count": 318,
     "metadata": {},
     "output_type": "execute_result"
    }
   ],
   "source": [
    "fit_sales.resid"
   ]
  },
  {
   "cell_type": "code",
   "execution_count": 319,
   "metadata": {},
   "outputs": [
    {
     "data": {
      "text/plain": [
       "0    1.858206\n",
       "1    3.652024\n",
       "dtype: float64"
      ]
     },
     "execution_count": 319,
     "metadata": {},
     "output_type": "execute_result"
    }
   ],
   "source": [
    "fit_sales.predict(games_action_new)"
   ]
  },
  {
   "cell_type": "markdown",
   "metadata": {},
   "source": [
    "Thus, if sales in America are equal to, for example, 1 or 2 million dollars, then sales on the world market will\n",
    "be approximately 1.86 and 3.65 million dollars, respectively.\n",
    "Now let's try to predict what our sales will be in America if we release a game of a particular genre and for a particular platform"
   ]
  },
  {
   "cell_type": "code",
   "execution_count": 321,
   "metadata": {},
   "outputs": [
    {
     "data": {
      "text/html": [
       "<table class=\"simpletable\">\n",
       "<caption>OLS Regression Results</caption>\n",
       "<tr>\n",
       "  <th>Dep. Variable:</th>        <td>NA_Sales</td>     <th>  R-squared:         </th> <td>   0.048</td> \n",
       "</tr>\n",
       "<tr>\n",
       "  <th>Model:</th>                   <td>OLS</td>       <th>  Adj. R-squared:    </th> <td>   0.046</td> \n",
       "</tr>\n",
       "<tr>\n",
       "  <th>Method:</th>             <td>Least Squares</td>  <th>  F-statistic:       </th> <td>   19.95</td> \n",
       "</tr>\n",
       "<tr>\n",
       "  <th>Date:</th>             <td>Fri, 11 Dec 2020</td> <th>  Prob (F-statistic):</th> <td>3.32e-141</td>\n",
       "</tr>\n",
       "<tr>\n",
       "  <th>Time:</th>                 <td>18:29:04</td>     <th>  Log-Likelihood:    </th> <td> -19531.</td> \n",
       "</tr>\n",
       "<tr>\n",
       "  <th>No. Observations:</th>      <td> 16291</td>      <th>  AIC:               </th> <td>3.915e+04</td>\n",
       "</tr>\n",
       "<tr>\n",
       "  <th>Df Residuals:</th>          <td> 16249</td>      <th>  BIC:               </th> <td>3.947e+04</td>\n",
       "</tr>\n",
       "<tr>\n",
       "  <th>Df Model:</th>              <td>    41</td>      <th>                     </th>     <td> </td>    \n",
       "</tr>\n",
       "<tr>\n",
       "  <th>Covariance Type:</th>      <td>nonrobust</td>    <th>                     </th>     <td> </td>    \n",
       "</tr>\n",
       "</table>\n",
       "<table class=\"simpletable\">\n",
       "<tr>\n",
       "            <td></td>               <th>coef</th>     <th>std err</th>      <th>t</th>      <th>P>|t|</th>  <th>[0.025</th>    <th>0.975]</th>  \n",
       "</tr>\n",
       "<tr>\n",
       "  <th>Intercept</th>             <td>    0.6544</td> <td>    0.075</td> <td>    8.703</td> <td> 0.000</td> <td>    0.507</td> <td>    0.802</td>\n",
       "</tr>\n",
       "<tr>\n",
       "  <th>Genre[T.Adventure]</th>    <td>   -0.1373</td> <td>    0.027</td> <td>   -5.088</td> <td> 0.000</td> <td>   -0.190</td> <td>   -0.084</td>\n",
       "</tr>\n",
       "<tr>\n",
       "  <th>Genre[T.Fighting]</th>     <td>    0.0074</td> <td>    0.032</td> <td>    0.235</td> <td> 0.815</td> <td>   -0.055</td> <td>    0.070</td>\n",
       "</tr>\n",
       "<tr>\n",
       "  <th>Genre[T.Misc]</th>         <td>   -0.0348</td> <td>    0.025</td> <td>   -1.421</td> <td> 0.155</td> <td>   -0.083</td> <td>    0.013</td>\n",
       "</tr>\n",
       "<tr>\n",
       "  <th>Genre[T.Platform]</th>     <td>    0.2103</td> <td>    0.031</td> <td>    6.732</td> <td> 0.000</td> <td>    0.149</td> <td>    0.272</td>\n",
       "</tr>\n",
       "<tr>\n",
       "  <th>Genre[T.Puzzle]</th>       <td>   -0.0639</td> <td>    0.037</td> <td>   -1.710</td> <td> 0.087</td> <td>   -0.137</td> <td>    0.009</td>\n",
       "</tr>\n",
       "<tr>\n",
       "  <th>Genre[T.Racing]</th>       <td>    0.0204</td> <td>    0.027</td> <td>    0.746</td> <td> 0.456</td> <td>   -0.033</td> <td>    0.074</td>\n",
       "</tr>\n",
       "<tr>\n",
       "  <th>Genre[T.Role-Playing]</th> <td>   -0.0151</td> <td>    0.026</td> <td>   -0.589</td> <td> 0.556</td> <td>   -0.065</td> <td>    0.035</td>\n",
       "</tr>\n",
       "<tr>\n",
       "  <th>Genre[T.Shooter]</th>      <td>    0.1676</td> <td>    0.027</td> <td>    6.239</td> <td> 0.000</td> <td>    0.115</td> <td>    0.220</td>\n",
       "</tr>\n",
       "<tr>\n",
       "  <th>Genre[T.Simulation]</th>   <td>   -0.0241</td> <td>    0.032</td> <td>   -0.762</td> <td> 0.446</td> <td>   -0.086</td> <td>    0.038</td>\n",
       "</tr>\n",
       "<tr>\n",
       "  <th>Genre[T.Sports]</th>       <td>    0.0046</td> <td>    0.022</td> <td>    0.207</td> <td> 0.836</td> <td>   -0.039</td> <td>    0.048</td>\n",
       "</tr>\n",
       "<tr>\n",
       "  <th>Genre[T.Strategy]</th>     <td>   -0.1095</td> <td>    0.035</td> <td>   -3.131</td> <td> 0.002</td> <td>   -0.178</td> <td>   -0.041</td>\n",
       "</tr>\n",
       "<tr>\n",
       "  <th>Platform[T.3DO]</th>       <td>   -0.5793</td> <td>    0.470</td> <td>   -1.232</td> <td> 0.218</td> <td>   -1.501</td> <td>    0.342</td>\n",
       "</tr>\n",
       "<tr>\n",
       "  <th>Platform[T.3DS]</th>       <td>   -0.4895</td> <td>    0.083</td> <td>   -5.892</td> <td> 0.000</td> <td>   -0.652</td> <td>   -0.327</td>\n",
       "</tr>\n",
       "<tr>\n",
       "  <th>Platform[T.DC]</th>        <td>   -0.5420</td> <td>    0.135</td> <td>   -4.028</td> <td> 0.000</td> <td>   -0.806</td> <td>   -0.278</td>\n",
       "</tr>\n",
       "<tr>\n",
       "  <th>Platform[T.DS]</th>        <td>   -0.4479</td> <td>    0.077</td> <td>   -5.811</td> <td> 0.000</td> <td>   -0.599</td> <td>   -0.297</td>\n",
       "</tr>\n",
       "<tr>\n",
       "  <th>Platform[T.GB]</th>        <td>    0.5078</td> <td>    0.111</td> <td>    4.574</td> <td> 0.000</td> <td>    0.290</td> <td>    0.725</td>\n",
       "</tr>\n",
       "<tr>\n",
       "  <th>Platform[T.GBA]</th>       <td>   -0.4578</td> <td>    0.080</td> <td>   -5.710</td> <td> 0.000</td> <td>   -0.615</td> <td>   -0.301</td>\n",
       "</tr>\n",
       "<tr>\n",
       "  <th>Platform[T.GC]</th>        <td>   -0.4457</td> <td>    0.082</td> <td>   -5.406</td> <td> 0.000</td> <td>   -0.607</td> <td>   -0.284</td>\n",
       "</tr>\n",
       "<tr>\n",
       "  <th>Platform[T.GEN]</th>       <td>    0.0131</td> <td>    0.172</td> <td>    0.076</td> <td> 0.939</td> <td>   -0.324</td> <td>    0.350</td>\n",
       "</tr>\n",
       "<tr>\n",
       "  <th>Platform[T.GG]</th>        <td>   -0.8647</td> <td>    0.807</td> <td>   -1.071</td> <td> 0.284</td> <td>   -2.447</td> <td>    0.718</td>\n",
       "</tr>\n",
       "<tr>\n",
       "  <th>Platform[T.N64]</th>       <td>   -0.2427</td> <td>    0.088</td> <td>   -2.771</td> <td> 0.006</td> <td>   -0.414</td> <td>   -0.071</td>\n",
       "</tr>\n",
       "<tr>\n",
       "  <th>Platform[T.NES]</th>       <td>    0.5698</td> <td>    0.111</td> <td>    5.151</td> <td> 0.000</td> <td>    0.353</td> <td>    0.787</td>\n",
       "</tr>\n",
       "<tr>\n",
       "  <th>Platform[T.NG]</th>        <td>   -0.6616</td> <td>    0.245</td> <td>   -2.699</td> <td> 0.007</td> <td>   -1.142</td> <td>   -0.181</td>\n",
       "</tr>\n",
       "<tr>\n",
       "  <th>Platform[T.PC]</th>        <td>   -0.5481</td> <td>    0.080</td> <td>   -6.885</td> <td> 0.000</td> <td>   -0.704</td> <td>   -0.392</td>\n",
       "</tr>\n",
       "<tr>\n",
       "  <th>Platform[T.PCFX]</th>      <td>   -0.6394</td> <td>    0.807</td> <td>   -0.792</td> <td> 0.428</td> <td>   -2.222</td> <td>    0.943</td>\n",
       "</tr>\n",
       "<tr>\n",
       "  <th>Platform[T.PS]</th>        <td>   -0.3812</td> <td>    0.079</td> <td>   -4.855</td> <td> 0.000</td> <td>   -0.535</td> <td>   -0.227</td>\n",
       "</tr>\n",
       "<tr>\n",
       "  <th>Platform[T.PS2]</th>       <td>   -0.3882</td> <td>    0.077</td> <td>   -5.046</td> <td> 0.000</td> <td>   -0.539</td> <td>   -0.237</td>\n",
       "</tr>\n",
       "<tr>\n",
       "  <th>Platform[T.PS3]</th>       <td>   -0.3698</td> <td>    0.078</td> <td>   -4.740</td> <td> 0.000</td> <td>   -0.523</td> <td>   -0.217</td>\n",
       "</tr>\n",
       "<tr>\n",
       "  <th>Platform[T.PS4]</th>       <td>   -0.3786</td> <td>    0.087</td> <td>   -4.368</td> <td> 0.000</td> <td>   -0.548</td> <td>   -0.209</td>\n",
       "</tr>\n",
       "<tr>\n",
       "  <th>Platform[T.PSP]</th>       <td>   -0.5404</td> <td>    0.079</td> <td>   -6.879</td> <td> 0.000</td> <td>   -0.694</td> <td>   -0.386</td>\n",
       "</tr>\n",
       "<tr>\n",
       "  <th>Platform[T.PSV]</th>       <td>   -0.5875</td> <td>    0.085</td> <td>   -6.919</td> <td> 0.000</td> <td>   -0.754</td> <td>   -0.421</td>\n",
       "</tr>\n",
       "<tr>\n",
       "  <th>Platform[T.SAT]</th>       <td>   -0.6410</td> <td>    0.097</td> <td>   -6.612</td> <td> 0.000</td> <td>   -0.831</td> <td>   -0.451</td>\n",
       "</tr>\n",
       "<tr>\n",
       "  <th>Platform[T.SCD]</th>       <td>   -0.4938</td> <td>    0.337</td> <td>   -1.467</td> <td> 0.142</td> <td>   -1.154</td> <td>    0.166</td>\n",
       "</tr>\n",
       "<tr>\n",
       "  <th>Platform[T.SNES]</th>      <td>   -0.4114</td> <td>    0.091</td> <td>   -4.502</td> <td> 0.000</td> <td>   -0.591</td> <td>   -0.232</td>\n",
       "</tr>\n",
       "<tr>\n",
       "  <th>Platform[T.TG16]</th>      <td>   -0.6695</td> <td>    0.573</td> <td>   -1.168</td> <td> 0.243</td> <td>   -1.793</td> <td>    0.454</td>\n",
       "</tr>\n",
       "<tr>\n",
       "  <th>Platform[T.WS]</th>        <td>   -0.6079</td> <td>    0.337</td> <td>   -1.804</td> <td> 0.071</td> <td>   -1.268</td> <td>    0.053</td>\n",
       "</tr>\n",
       "<tr>\n",
       "  <th>Platform[T.Wii]</th>       <td>   -0.2657</td> <td>    0.078</td> <td>   -3.397</td> <td> 0.001</td> <td>   -0.419</td> <td>   -0.112</td>\n",
       "</tr>\n",
       "<tr>\n",
       "  <th>Platform[T.WiiU]</th>      <td>   -0.4098</td> <td>    0.100</td> <td>   -4.078</td> <td> 0.000</td> <td>   -0.607</td> <td>   -0.213</td>\n",
       "</tr>\n",
       "<tr>\n",
       "  <th>Platform[T.X360]</th>      <td>   -0.1935</td> <td>    0.078</td> <td>   -2.475</td> <td> 0.013</td> <td>   -0.347</td> <td>   -0.040</td>\n",
       "</tr>\n",
       "<tr>\n",
       "  <th>Platform[T.XB]</th>        <td>   -0.4599</td> <td>    0.080</td> <td>   -5.746</td> <td> 0.000</td> <td>   -0.617</td> <td>   -0.303</td>\n",
       "</tr>\n",
       "<tr>\n",
       "  <th>Platform[T.XOne]</th>      <td>   -0.2836</td> <td>    0.093</td> <td>   -3.055</td> <td> 0.002</td> <td>   -0.466</td> <td>   -0.102</td>\n",
       "</tr>\n",
       "</table>\n",
       "<table class=\"simpletable\">\n",
       "<tr>\n",
       "  <th>Omnibus:</th>       <td>34992.011</td> <th>  Durbin-Watson:     </th>   <td>   0.329</td>   \n",
       "</tr>\n",
       "<tr>\n",
       "  <th>Prob(Omnibus):</th>  <td> 0.000</td>   <th>  Jarque-Bera (JB):  </th> <td>301281260.668</td>\n",
       "</tr>\n",
       "<tr>\n",
       "  <th>Skew:</th>           <td>18.866</td>   <th>  Prob(JB):          </th>   <td>    0.00</td>   \n",
       "</tr>\n",
       "<tr>\n",
       "  <th>Kurtosis:</th>       <td>668.151</td>  <th>  Cond. No.          </th>   <td>    138.</td>   \n",
       "</tr>\n",
       "</table><br/><br/>Warnings:<br/>[1] Standard Errors assume that the covariance matrix of the errors is correctly specified."
      ],
      "text/plain": [
       "<class 'statsmodels.iolib.summary.Summary'>\n",
       "\"\"\"\n",
       "                            OLS Regression Results                            \n",
       "==============================================================================\n",
       "Dep. Variable:               NA_Sales   R-squared:                       0.048\n",
       "Model:                            OLS   Adj. R-squared:                  0.046\n",
       "Method:                 Least Squares   F-statistic:                     19.95\n",
       "Date:                Fri, 11 Dec 2020   Prob (F-statistic):          3.32e-141\n",
       "Time:                        18:29:04   Log-Likelihood:                -19531.\n",
       "No. Observations:               16291   AIC:                         3.915e+04\n",
       "Df Residuals:                   16249   BIC:                         3.947e+04\n",
       "Df Model:                          41                                         \n",
       "Covariance Type:            nonrobust                                         \n",
       "=========================================================================================\n",
       "                            coef    std err          t      P>|t|      [0.025      0.975]\n",
       "-----------------------------------------------------------------------------------------\n",
       "Intercept                 0.6544      0.075      8.703      0.000       0.507       0.802\n",
       "Genre[T.Adventure]       -0.1373      0.027     -5.088      0.000      -0.190      -0.084\n",
       "Genre[T.Fighting]         0.0074      0.032      0.235      0.815      -0.055       0.070\n",
       "Genre[T.Misc]            -0.0348      0.025     -1.421      0.155      -0.083       0.013\n",
       "Genre[T.Platform]         0.2103      0.031      6.732      0.000       0.149       0.272\n",
       "Genre[T.Puzzle]          -0.0639      0.037     -1.710      0.087      -0.137       0.009\n",
       "Genre[T.Racing]           0.0204      0.027      0.746      0.456      -0.033       0.074\n",
       "Genre[T.Role-Playing]    -0.0151      0.026     -0.589      0.556      -0.065       0.035\n",
       "Genre[T.Shooter]          0.1676      0.027      6.239      0.000       0.115       0.220\n",
       "Genre[T.Simulation]      -0.0241      0.032     -0.762      0.446      -0.086       0.038\n",
       "Genre[T.Sports]           0.0046      0.022      0.207      0.836      -0.039       0.048\n",
       "Genre[T.Strategy]        -0.1095      0.035     -3.131      0.002      -0.178      -0.041\n",
       "Platform[T.3DO]          -0.5793      0.470     -1.232      0.218      -1.501       0.342\n",
       "Platform[T.3DS]          -0.4895      0.083     -5.892      0.000      -0.652      -0.327\n",
       "Platform[T.DC]           -0.5420      0.135     -4.028      0.000      -0.806      -0.278\n",
       "Platform[T.DS]           -0.4479      0.077     -5.811      0.000      -0.599      -0.297\n",
       "Platform[T.GB]            0.5078      0.111      4.574      0.000       0.290       0.725\n",
       "Platform[T.GBA]          -0.4578      0.080     -5.710      0.000      -0.615      -0.301\n",
       "Platform[T.GC]           -0.4457      0.082     -5.406      0.000      -0.607      -0.284\n",
       "Platform[T.GEN]           0.0131      0.172      0.076      0.939      -0.324       0.350\n",
       "Platform[T.GG]           -0.8647      0.807     -1.071      0.284      -2.447       0.718\n",
       "Platform[T.N64]          -0.2427      0.088     -2.771      0.006      -0.414      -0.071\n",
       "Platform[T.NES]           0.5698      0.111      5.151      0.000       0.353       0.787\n",
       "Platform[T.NG]           -0.6616      0.245     -2.699      0.007      -1.142      -0.181\n",
       "Platform[T.PC]           -0.5481      0.080     -6.885      0.000      -0.704      -0.392\n",
       "Platform[T.PCFX]         -0.6394      0.807     -0.792      0.428      -2.222       0.943\n",
       "Platform[T.PS]           -0.3812      0.079     -4.855      0.000      -0.535      -0.227\n",
       "Platform[T.PS2]          -0.3882      0.077     -5.046      0.000      -0.539      -0.237\n",
       "Platform[T.PS3]          -0.3698      0.078     -4.740      0.000      -0.523      -0.217\n",
       "Platform[T.PS4]          -0.3786      0.087     -4.368      0.000      -0.548      -0.209\n",
       "Platform[T.PSP]          -0.5404      0.079     -6.879      0.000      -0.694      -0.386\n",
       "Platform[T.PSV]          -0.5875      0.085     -6.919      0.000      -0.754      -0.421\n",
       "Platform[T.SAT]          -0.6410      0.097     -6.612      0.000      -0.831      -0.451\n",
       "Platform[T.SCD]          -0.4938      0.337     -1.467      0.142      -1.154       0.166\n",
       "Platform[T.SNES]         -0.4114      0.091     -4.502      0.000      -0.591      -0.232\n",
       "Platform[T.TG16]         -0.6695      0.573     -1.168      0.243      -1.793       0.454\n",
       "Platform[T.WS]           -0.6079      0.337     -1.804      0.071      -1.268       0.053\n",
       "Platform[T.Wii]          -0.2657      0.078     -3.397      0.001      -0.419      -0.112\n",
       "Platform[T.WiiU]         -0.4098      0.100     -4.078      0.000      -0.607      -0.213\n",
       "Platform[T.X360]         -0.1935      0.078     -2.475      0.013      -0.347      -0.040\n",
       "Platform[T.XB]           -0.4599      0.080     -5.746      0.000      -0.617      -0.303\n",
       "Platform[T.XOne]         -0.2836      0.093     -3.055      0.002      -0.466      -0.102\n",
       "==============================================================================\n",
       "Omnibus:                    34992.011   Durbin-Watson:                   0.329\n",
       "Prob(Omnibus):                  0.000   Jarque-Bera (JB):        301281260.668\n",
       "Skew:                          18.866   Prob(JB):                         0.00\n",
       "Kurtosis:                     668.151   Cond. No.                         138.\n",
       "==============================================================================\n",
       "\n",
       "Warnings:\n",
       "[1] Standard Errors assume that the covariance matrix of the errors is correctly specified.\n",
       "\"\"\""
      ]
     },
     "execution_count": 321,
     "metadata": {},
     "output_type": "execute_result"
    }
   ],
   "source": [
    "model_sales_2 = smf.ols(data = games, formula = 'NA_Sales ~ Genre + Platform')\n",
    "fit_sales_2 = model_sales_2.fit()\n",
    "fit_sales_2.summary()"
   ]
  },
  {
   "cell_type": "code",
   "execution_count": 325,
   "metadata": {},
   "outputs": [
    {
     "data": {
      "text/html": [
       "<div>\n",
       "<style scoped>\n",
       "    .dataframe tbody tr th:only-of-type {\n",
       "        vertical-align: middle;\n",
       "    }\n",
       "\n",
       "    .dataframe tbody tr th {\n",
       "        vertical-align: top;\n",
       "    }\n",
       "\n",
       "    .dataframe thead th {\n",
       "        text-align: right;\n",
       "    }\n",
       "</style>\n",
       "<table border=\"1\" class=\"dataframe\">\n",
       "  <thead>\n",
       "    <tr style=\"text-align: right;\">\n",
       "      <th></th>\n",
       "      <th>Genre</th>\n",
       "      <th>Platform</th>\n",
       "    </tr>\n",
       "  </thead>\n",
       "  <tbody>\n",
       "    <tr>\n",
       "      <th>0</th>\n",
       "      <td>Shooter</td>\n",
       "      <td>X360</td>\n",
       "    </tr>\n",
       "    <tr>\n",
       "      <th>1</th>\n",
       "      <td>Action</td>\n",
       "      <td>PC</td>\n",
       "    </tr>\n",
       "    <tr>\n",
       "      <th>2</th>\n",
       "      <td>Adventure</td>\n",
       "      <td>PS2</td>\n",
       "    </tr>\n",
       "  </tbody>\n",
       "</table>\n",
       "</div>"
      ],
      "text/plain": [
       "       Genre Platform\n",
       "0    Shooter     X360\n",
       "1     Action       PC\n",
       "2  Adventure      PS2"
      ]
     },
     "execution_count": 325,
     "metadata": {},
     "output_type": "execute_result"
    }
   ],
   "source": [
    "games_new_2 = pd.DataFrame({'Genre': ['Shooter', 'Action', 'Adventure',], 'Platform': ['X360', 'PC','PS2']})\n",
    "games_new_2"
   ]
  },
  {
   "cell_type": "code",
   "execution_count": 326,
   "metadata": {},
   "outputs": [
    {
     "data": {
      "text/plain": [
       "0        41.096703\n",
       "1        27.645516\n",
       "2        15.440925\n",
       "3        15.356703\n",
       "4        10.122878\n",
       "           ...    \n",
       "16593    -0.396926\n",
       "16594    -0.366285\n",
       "16595    -0.286590\n",
       "16596    -0.142585\n",
       "16597    -0.396926\n",
       "Length: 16291, dtype: float64"
      ]
     },
     "execution_count": 326,
     "metadata": {},
     "output_type": "execute_result"
    }
   ],
   "source": [
    "fit_sales_2.resid"
   ]
  },
  {
   "cell_type": "code",
   "execution_count": 327,
   "metadata": {},
   "outputs": [
    {
     "data": {
      "text/plain": [
       "0    0.628477\n",
       "1    0.106305\n",
       "2    0.128873\n",
       "dtype: float64"
      ]
     },
     "execution_count": 327,
     "metadata": {},
     "output_type": "execute_result"
    }
   ],
   "source": [
    "fit_sales_2.predict(games_new_2)"
   ]
  },
  {
   "cell_type": "markdown",
   "metadata": {},
   "source": [
    "We see that indeed games of the shooter category released on a more popular platform are expected to bring much more revenue.\n",
    "And, finally, we will predict the same thing, only focusing on the data of the last decade."
   ]
  },
  {
   "cell_type": "code",
   "execution_count": 328,
   "metadata": {},
   "outputs": [
    {
     "data": {
      "text/html": [
       "<table class=\"simpletable\">\n",
       "<caption>OLS Regression Results</caption>\n",
       "<tr>\n",
       "  <th>Dep. Variable:</th>        <td>NA_Sales</td>     <th>  R-squared:         </th> <td>   0.081</td>\n",
       "</tr>\n",
       "<tr>\n",
       "  <th>Model:</th>                   <td>OLS</td>       <th>  Adj. R-squared:    </th> <td>   0.077</td>\n",
       "</tr>\n",
       "<tr>\n",
       "  <th>Method:</th>             <td>Least Squares</td>  <th>  F-statistic:       </th> <td>   20.46</td>\n",
       "</tr>\n",
       "<tr>\n",
       "  <th>Date:</th>             <td>Fri, 11 Dec 2020</td> <th>  Prob (F-statistic):</th> <td>8.73e-78</td>\n",
       "</tr>\n",
       "<tr>\n",
       "  <th>Time:</th>                 <td>18:35:07</td>     <th>  Log-Likelihood:    </th> <td> -4577.9</td>\n",
       "</tr>\n",
       "<tr>\n",
       "  <th>No. Observations:</th>      <td>  5134</td>      <th>  AIC:               </th> <td>   9202.</td>\n",
       "</tr>\n",
       "<tr>\n",
       "  <th>Df Residuals:</th>          <td>  5111</td>      <th>  BIC:               </th> <td>   9352.</td>\n",
       "</tr>\n",
       "<tr>\n",
       "  <th>Df Model:</th>              <td>    22</td>      <th>                     </th>     <td> </td>   \n",
       "</tr>\n",
       "<tr>\n",
       "  <th>Covariance Type:</th>      <td>nonrobust</td>    <th>                     </th>     <td> </td>   \n",
       "</tr>\n",
       "</table>\n",
       "<table class=\"simpletable\">\n",
       "<tr>\n",
       "            <td></td>               <th>coef</th>     <th>std err</th>      <th>t</th>      <th>P>|t|</th>  <th>[0.025</th>    <th>0.975]</th>  \n",
       "</tr>\n",
       "<tr>\n",
       "  <th>Intercept</th>             <td>    0.1457</td> <td>    0.029</td> <td>    4.977</td> <td> 0.000</td> <td>    0.088</td> <td>    0.203</td>\n",
       "</tr>\n",
       "<tr>\n",
       "  <th>Genre[T.Adventure]</th>    <td>   -0.0875</td> <td>    0.031</td> <td>   -2.828</td> <td> 0.005</td> <td>   -0.148</td> <td>   -0.027</td>\n",
       "</tr>\n",
       "<tr>\n",
       "  <th>Genre[T.Fighting]</th>     <td>   -0.0269</td> <td>    0.045</td> <td>   -0.596</td> <td> 0.551</td> <td>   -0.115</td> <td>    0.062</td>\n",
       "</tr>\n",
       "<tr>\n",
       "  <th>Genre[T.Misc]</th>         <td>    0.0106</td> <td>    0.030</td> <td>    0.351</td> <td> 0.725</td> <td>   -0.049</td> <td>    0.070</td>\n",
       "</tr>\n",
       "<tr>\n",
       "  <th>Genre[T.Platform]</th>     <td>    0.1738</td> <td>    0.051</td> <td>    3.406</td> <td> 0.001</td> <td>    0.074</td> <td>    0.274</td>\n",
       "</tr>\n",
       "<tr>\n",
       "  <th>Genre[T.Puzzle]</th>       <td>   -0.0516</td> <td>    0.059</td> <td>   -0.873</td> <td> 0.383</td> <td>   -0.168</td> <td>    0.064</td>\n",
       "</tr>\n",
       "<tr>\n",
       "  <th>Genre[T.Racing]</th>       <td>   -0.0473</td> <td>    0.042</td> <td>   -1.125</td> <td> 0.261</td> <td>   -0.130</td> <td>    0.035</td>\n",
       "</tr>\n",
       "<tr>\n",
       "  <th>Genre[T.Role-Playing]</th> <td>    0.0439</td> <td>    0.030</td> <td>    1.472</td> <td> 0.141</td> <td>   -0.015</td> <td>    0.102</td>\n",
       "</tr>\n",
       "<tr>\n",
       "  <th>Genre[T.Shooter]</th>      <td>    0.3211</td> <td>    0.034</td> <td>    9.357</td> <td> 0.000</td> <td>    0.254</td> <td>    0.388</td>\n",
       "</tr>\n",
       "<tr>\n",
       "  <th>Genre[T.Simulation]</th>   <td>   -0.0327</td> <td>    0.045</td> <td>   -0.728</td> <td> 0.466</td> <td>   -0.121</td> <td>    0.055</td>\n",
       "</tr>\n",
       "<tr>\n",
       "  <th>Genre[T.Sports]</th>       <td>    0.0314</td> <td>    0.030</td> <td>    1.058</td> <td> 0.290</td> <td>   -0.027</td> <td>    0.090</td>\n",
       "</tr>\n",
       "<tr>\n",
       "  <th>Genre[T.Strategy]</th>     <td>   -0.0424</td> <td>    0.049</td> <td>   -0.860</td> <td> 0.390</td> <td>   -0.139</td> <td>    0.054</td>\n",
       "</tr>\n",
       "<tr>\n",
       "  <th>Platform[T.DS]</th>        <td>   -0.0182</td> <td>    0.038</td> <td>   -0.480</td> <td> 0.631</td> <td>   -0.092</td> <td>    0.056</td>\n",
       "</tr>\n",
       "<tr>\n",
       "  <th>Platform[T.PC]</th>        <td>   -0.1017</td> <td>    0.039</td> <td>   -2.593</td> <td> 0.010</td> <td>   -0.179</td> <td>   -0.025</td>\n",
       "</tr>\n",
       "<tr>\n",
       "  <th>Platform[T.PS2]</th>       <td>   -0.0895</td> <td>    0.093</td> <td>   -0.964</td> <td> 0.335</td> <td>   -0.271</td> <td>    0.092</td>\n",
       "</tr>\n",
       "<tr>\n",
       "  <th>Platform[T.PS3]</th>       <td>    0.0742</td> <td>    0.034</td> <td>    2.207</td> <td> 0.027</td> <td>    0.008</td> <td>    0.140</td>\n",
       "</tr>\n",
       "<tr>\n",
       "  <th>Platform[T.PS4]</th>       <td>    0.1036</td> <td>    0.042</td> <td>    2.462</td> <td> 0.014</td> <td>    0.021</td> <td>    0.186</td>\n",
       "</tr>\n",
       "<tr>\n",
       "  <th>Platform[T.PSP]</th>       <td>   -0.1083</td> <td>    0.038</td> <td>   -2.824</td> <td> 0.005</td> <td>   -0.183</td> <td>   -0.033</td>\n",
       "</tr>\n",
       "<tr>\n",
       "  <th>Platform[T.PSV]</th>       <td>   -0.1040</td> <td>    0.040</td> <td>   -2.615</td> <td> 0.009</td> <td>   -0.182</td> <td>   -0.026</td>\n",
       "</tr>\n",
       "<tr>\n",
       "  <th>Platform[T.Wii]</th>       <td>    0.1127</td> <td>    0.039</td> <td>    2.870</td> <td> 0.004</td> <td>    0.036</td> <td>    0.190</td>\n",
       "</tr>\n",
       "<tr>\n",
       "  <th>Platform[T.WiiU]</th>      <td>    0.0816</td> <td>    0.056</td> <td>    1.447</td> <td> 0.148</td> <td>   -0.029</td> <td>    0.192</td>\n",
       "</tr>\n",
       "<tr>\n",
       "  <th>Platform[T.X360]</th>      <td>    0.2923</td> <td>    0.036</td> <td>    8.183</td> <td> 0.000</td> <td>    0.222</td> <td>    0.362</td>\n",
       "</tr>\n",
       "<tr>\n",
       "  <th>Platform[T.XOne]</th>      <td>    0.1942</td> <td>    0.049</td> <td>    3.961</td> <td> 0.000</td> <td>    0.098</td> <td>    0.290</td>\n",
       "</tr>\n",
       "</table>\n",
       "<table class=\"simpletable\">\n",
       "<tr>\n",
       "  <th>Omnibus:</th>       <td>7606.523</td> <th>  Durbin-Watson:     </th>  <td>   0.375</td>  \n",
       "</tr>\n",
       "<tr>\n",
       "  <th>Prob(Omnibus):</th>  <td> 0.000</td>  <th>  Jarque-Bera (JB):  </th> <td>3769569.155</td>\n",
       "</tr>\n",
       "<tr>\n",
       "  <th>Skew:</th>           <td> 8.929</td>  <th>  Prob(JB):          </th>  <td>    0.00</td>  \n",
       "</tr>\n",
       "<tr>\n",
       "  <th>Kurtosis:</th>       <td>134.540</td> <th>  Cond. No.          </th>  <td>    13.8</td>  \n",
       "</tr>\n",
       "</table><br/><br/>Warnings:<br/>[1] Standard Errors assume that the covariance matrix of the errors is correctly specified."
      ],
      "text/plain": [
       "<class 'statsmodels.iolib.summary.Summary'>\n",
       "\"\"\"\n",
       "                            OLS Regression Results                            \n",
       "==============================================================================\n",
       "Dep. Variable:               NA_Sales   R-squared:                       0.081\n",
       "Model:                            OLS   Adj. R-squared:                  0.077\n",
       "Method:                 Least Squares   F-statistic:                     20.46\n",
       "Date:                Fri, 11 Dec 2020   Prob (F-statistic):           8.73e-78\n",
       "Time:                        18:35:07   Log-Likelihood:                -4577.9\n",
       "No. Observations:                5134   AIC:                             9202.\n",
       "Df Residuals:                    5111   BIC:                             9352.\n",
       "Df Model:                          22                                         \n",
       "Covariance Type:            nonrobust                                         \n",
       "=========================================================================================\n",
       "                            coef    std err          t      P>|t|      [0.025      0.975]\n",
       "-----------------------------------------------------------------------------------------\n",
       "Intercept                 0.1457      0.029      4.977      0.000       0.088       0.203\n",
       "Genre[T.Adventure]       -0.0875      0.031     -2.828      0.005      -0.148      -0.027\n",
       "Genre[T.Fighting]        -0.0269      0.045     -0.596      0.551      -0.115       0.062\n",
       "Genre[T.Misc]             0.0106      0.030      0.351      0.725      -0.049       0.070\n",
       "Genre[T.Platform]         0.1738      0.051      3.406      0.001       0.074       0.274\n",
       "Genre[T.Puzzle]          -0.0516      0.059     -0.873      0.383      -0.168       0.064\n",
       "Genre[T.Racing]          -0.0473      0.042     -1.125      0.261      -0.130       0.035\n",
       "Genre[T.Role-Playing]     0.0439      0.030      1.472      0.141      -0.015       0.102\n",
       "Genre[T.Shooter]          0.3211      0.034      9.357      0.000       0.254       0.388\n",
       "Genre[T.Simulation]      -0.0327      0.045     -0.728      0.466      -0.121       0.055\n",
       "Genre[T.Sports]           0.0314      0.030      1.058      0.290      -0.027       0.090\n",
       "Genre[T.Strategy]        -0.0424      0.049     -0.860      0.390      -0.139       0.054\n",
       "Platform[T.DS]           -0.0182      0.038     -0.480      0.631      -0.092       0.056\n",
       "Platform[T.PC]           -0.1017      0.039     -2.593      0.010      -0.179      -0.025\n",
       "Platform[T.PS2]          -0.0895      0.093     -0.964      0.335      -0.271       0.092\n",
       "Platform[T.PS3]           0.0742      0.034      2.207      0.027       0.008       0.140\n",
       "Platform[T.PS4]           0.1036      0.042      2.462      0.014       0.021       0.186\n",
       "Platform[T.PSP]          -0.1083      0.038     -2.824      0.005      -0.183      -0.033\n",
       "Platform[T.PSV]          -0.1040      0.040     -2.615      0.009      -0.182      -0.026\n",
       "Platform[T.Wii]           0.1127      0.039      2.870      0.004       0.036       0.190\n",
       "Platform[T.WiiU]          0.0816      0.056      1.447      0.148      -0.029       0.192\n",
       "Platform[T.X360]          0.2923      0.036      8.183      0.000       0.222       0.362\n",
       "Platform[T.XOne]          0.1942      0.049      3.961      0.000       0.098       0.290\n",
       "==============================================================================\n",
       "Omnibus:                     7606.523   Durbin-Watson:                   0.375\n",
       "Prob(Omnibus):                  0.000   Jarque-Bera (JB):          3769569.155\n",
       "Skew:                           8.929   Prob(JB):                         0.00\n",
       "Kurtosis:                     134.540   Cond. No.                         13.8\n",
       "==============================================================================\n",
       "\n",
       "Warnings:\n",
       "[1] Standard Errors assume that the covariance matrix of the errors is correctly specified.\n",
       "\"\"\""
      ]
     },
     "execution_count": 328,
     "metadata": {},
     "output_type": "execute_result"
    }
   ],
   "source": [
    "model_sales_3 = smf.ols(data = games_latest, formula = 'NA_Sales ~ Genre + Platform')\n",
    "fit_sales_3 = model_sales_3.fit()\n",
    "fit_sales_3.summary()"
   ]
  },
  {
   "cell_type": "code",
   "execution_count": 329,
   "metadata": {},
   "outputs": [
    {
     "data": {
      "text/html": [
       "<div>\n",
       "<style scoped>\n",
       "    .dataframe tbody tr th:only-of-type {\n",
       "        vertical-align: middle;\n",
       "    }\n",
       "\n",
       "    .dataframe tbody tr th {\n",
       "        vertical-align: top;\n",
       "    }\n",
       "\n",
       "    .dataframe thead th {\n",
       "        text-align: right;\n",
       "    }\n",
       "</style>\n",
       "<table border=\"1\" class=\"dataframe\">\n",
       "  <thead>\n",
       "    <tr style=\"text-align: right;\">\n",
       "      <th></th>\n",
       "      <th>Genre</th>\n",
       "      <th>Platform</th>\n",
       "    </tr>\n",
       "  </thead>\n",
       "  <tbody>\n",
       "    <tr>\n",
       "      <th>0</th>\n",
       "      <td>Shooter</td>\n",
       "      <td>X360</td>\n",
       "    </tr>\n",
       "    <tr>\n",
       "      <th>1</th>\n",
       "      <td>Action</td>\n",
       "      <td>PC</td>\n",
       "    </tr>\n",
       "    <tr>\n",
       "      <th>2</th>\n",
       "      <td>Adventure</td>\n",
       "      <td>PS2</td>\n",
       "    </tr>\n",
       "  </tbody>\n",
       "</table>\n",
       "</div>"
      ],
      "text/plain": [
       "       Genre Platform\n",
       "0    Shooter     X360\n",
       "1     Action       PC\n",
       "2  Adventure      PS2"
      ]
     },
     "execution_count": 329,
     "metadata": {},
     "output_type": "execute_result"
    }
   ],
   "source": [
    "games_new_3 = games_new_2\n",
    "games_new_3"
   ]
  },
  {
   "cell_type": "code",
   "execution_count": 330,
   "metadata": {},
   "outputs": [
    {
     "data": {
      "text/plain": [
       "0    0.759029\n",
       "1    0.044004\n",
       "2   -0.031279\n",
       "dtype: float64"
      ]
     },
     "execution_count": 330,
     "metadata": {},
     "output_type": "execute_result"
    }
   ],
   "source": [
    "fit_sales_3.predict(games_new_3)"
   ]
  },
  {
   "cell_type": "markdown",
   "metadata": {},
   "source": [
    "Here, the income gap is already enormous, and when selling an Adventure-type game to an outdated PS2 platform, you can generally make a loss."
   ]
  },
  {
   "cell_type": "markdown",
   "metadata": {},
   "source": [
    "**GENERAL CONCLUSIONS**"
   ]
  },
  {
   "cell_type": "markdown",
   "metadata": {},
   "source": [
    "Thus, even on the basis of such a very superficial analysis, it is possible to draw important conclusions.\n",
    "\n",
    "**1)** A company entering the gaming industry market is recommended to specialize in Shooter, release games on the most popular platforms, which are, for example, X360 and PS4, with this you can calculate the estimated income.\n",
    "\n",
    "**2)** The calculations given above can help determine how unpopular a platform or an unpopular type of game can be used to make a substantial profit if it is not possible to specialize in the most modern.\n",
    "\n",
    "**3)** It is desirable to cooperate with companies that have something to learn from, namely Electronic Arts, Ubisoft and Activision."
   ]
  },
  {
   "cell_type": "code",
   "execution_count": null,
   "metadata": {},
   "outputs": [],
   "source": []
  }
 ],
 "metadata": {
  "kernelspec": {
   "display_name": "Python [conda env:anaconda3]",
   "language": "python",
   "name": "conda-env-anaconda3-py"
  },
  "language_info": {
   "codemirror_mode": {
    "name": "ipython",
    "version": 3
   },
   "file_extension": ".py",
   "mimetype": "text/x-python",
   "name": "python",
   "nbconvert_exporter": "python",
   "pygments_lexer": "ipython3",
   "version": "3.8.3"
  }
 },
 "nbformat": 4,
 "nbformat_minor": 4
}
