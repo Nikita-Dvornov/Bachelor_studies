version https://git-lfs.github.com/spec/v1
oid sha256:5053a78c5a2c5b1ace42fd6e569896e38a64e39796f3a43fd1855035642918b9
size 1295358
